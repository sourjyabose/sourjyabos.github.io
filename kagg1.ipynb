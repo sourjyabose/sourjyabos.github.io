{
 "cells": [
  {
   "cell_type": "markdown",
   "id": "5cca5392-25be-4c67-b6a2-97293fdc61c9",
   "metadata": {
    "editable": true,
    "slideshow": {
     "slide_type": ""
    },
    "tags": []
   },
   "source": [
    "# Numpy"
   ]
  },
  {
   "cell_type": "code",
   "execution_count": 1,
   "id": "e9f4d97e-fccd-417f-9b1d-806786212fca",
   "metadata": {},
   "outputs": [],
   "source": [
    "import numpy as np"
   ]
  },
  {
   "cell_type": "code",
   "execution_count": 220,
   "id": "e58a3fd4-ccbe-42f3-bba5-eebda7ca6104",
   "metadata": {},
   "outputs": [
    {
     "name": "stdout",
     "output_type": "stream",
     "text": [
      "[1 2 3]\n"
     ]
    }
   ],
   "source": [
    "a=np.array([1,2,3],dtype=\"int64\");\n",
    "print(a)"
   ]
  },
  {
   "cell_type": "code",
   "execution_count": 221,
   "id": "73ac8398-4294-4ddf-9437-2f1729b0de90",
   "metadata": {},
   "outputs": [
    {
     "name": "stdout",
     "output_type": "stream",
     "text": [
      "[[1 2 3]\n",
      " [4 5 9]]\n"
     ]
    }
   ],
   "source": [
    "b=np.array([[1,2,3],[4,5,9]])\n",
    "print(b)"
   ]
  },
  {
   "cell_type": "code",
   "execution_count": 222,
   "id": "404ce377-2927-493f-af22-d251bdcb87f3",
   "metadata": {},
   "outputs": [
    {
     "data": {
      "text/plain": [
       "2"
      ]
     },
     "execution_count": 222,
     "metadata": {},
     "output_type": "execute_result"
    }
   ],
   "source": [
    "b.ndim"
   ]
  },
  {
   "cell_type": "code",
   "execution_count": 223,
   "id": "a67d8017-fd5d-47b5-80b2-051381779ecf",
   "metadata": {},
   "outputs": [
    {
     "data": {
      "text/plain": [
       "(2, 3)"
      ]
     },
     "execution_count": 223,
     "metadata": {},
     "output_type": "execute_result"
    }
   ],
   "source": [
    "b.shape"
   ]
  },
  {
   "cell_type": "code",
   "execution_count": 224,
   "id": "4f037473-0ea7-43b3-b7b5-003fc3a79d3c",
   "metadata": {},
   "outputs": [
    {
     "data": {
      "text/plain": [
       "(3,)"
      ]
     },
     "execution_count": 224,
     "metadata": {},
     "output_type": "execute_result"
    }
   ],
   "source": [
    "a.shape"
   ]
  },
  {
   "cell_type": "code",
   "execution_count": 225,
   "id": "68b7db6d-554b-41f1-9f11-e00ca72371c2",
   "metadata": {},
   "outputs": [
    {
     "data": {
      "text/plain": [
       "dtype('int64')"
      ]
     },
     "execution_count": 225,
     "metadata": {},
     "output_type": "execute_result"
    }
   ],
   "source": [
    "a.dtype"
   ]
  },
  {
   "cell_type": "code",
   "execution_count": 226,
   "id": "f5df15e0-c678-4709-be60-0339a3eae29e",
   "metadata": {},
   "outputs": [
    {
     "data": {
      "text/plain": [
       "24"
      ]
     },
     "execution_count": 226,
     "metadata": {},
     "output_type": "execute_result"
    }
   ],
   "source": [
    "a.nbytes"
   ]
  },
  {
   "cell_type": "code",
   "execution_count": 227,
   "id": "3ade1605-c455-468e-8c64-c84c3045f6d0",
   "metadata": {},
   "outputs": [
    {
     "data": {
      "text/plain": [
       "8"
      ]
     },
     "execution_count": 227,
     "metadata": {},
     "output_type": "execute_result"
    }
   ],
   "source": [
    "a.itemsize"
   ]
  },
  {
   "cell_type": "code",
   "execution_count": null,
   "id": "9360c684-edbb-4c5e-8136-96382176fa86",
   "metadata": {},
   "outputs": [],
   "source": []
  },
  {
   "cell_type": "code",
   "execution_count": 2,
   "id": "f7f3f511-c252-4de5-acc7-fcd3148fd846",
   "metadata": {},
   "outputs": [],
   "source": [
    "alpha=np.array([[1,2,3,4,5],[7,8,9,10,11]])\n",
    "\n"
   ]
  },
  {
   "cell_type": "code",
   "execution_count": 3,
   "id": "603f9add-6805-4bf1-a994-f5ba82e1c096",
   "metadata": {
    "jp-MarkdownHeadingCollapsed": true
   },
   "outputs": [
    {
     "data": {
      "text/plain": [
       "(2, 5)"
      ]
     },
     "execution_count": 3,
     "metadata": {},
     "output_type": "execute_result"
    }
   ],
   "source": [
    "alpha.shape"
   ]
  },
  {
   "cell_type": "code",
   "execution_count": 4,
   "id": "4b04c6fd-482c-40dd-8f79-b9f7a863197d",
   "metadata": {},
   "outputs": [
    {
     "name": "stdout",
     "output_type": "stream",
     "text": [
      "[[ 1  2  3  4  5]\n",
      " [ 7  8  9 10 11]]\n"
     ]
    }
   ],
   "source": [
    "print(alpha)"
   ]
  },
  {
   "cell_type": "code",
   "execution_count": 8,
   "id": "460227a0-f20d-46a8-acda-5676af111e86",
   "metadata": {},
   "outputs": [
    {
     "name": "stdout",
     "output_type": "stream",
     "text": [
      "[1 7]\n"
     ]
    }
   ],
   "source": [
    "print(alpha[:,0])"
   ]
  },
  {
   "cell_type": "code",
   "execution_count": 11,
   "id": "f5bc6843-d457-41dc-b3fe-ef1fec392947",
   "metadata": {},
   "outputs": [
    {
     "data": {
      "text/plain": [
       "array([[1, 3],\n",
       "       [7, 9]])"
      ]
     },
     "execution_count": 11,
     "metadata": {},
     "output_type": "execute_result"
    }
   ],
   "source": [
    "alpha[:,0:-2:2]"
   ]
  },
  {
   "cell_type": "code",
   "execution_count": 233,
   "id": "9c359948-870a-4df6-9e95-a5afc7589c22",
   "metadata": {},
   "outputs": [
    {
     "name": "stdout",
     "output_type": "stream",
     "text": [
      "[[ 1  2  3  4  5]\n",
      " [ 7  8  9 10 11]]\n"
     ]
    }
   ],
   "source": [
    "print(alpha)"
   ]
  },
  {
   "cell_type": "code",
   "execution_count": 234,
   "id": "1a58b870-2b92-4182-9092-f35f012af590",
   "metadata": {},
   "outputs": [
    {
     "name": "stdout",
     "output_type": "stream",
     "text": [
      "[[ 1  2  5  4  5]\n",
      " [ 7  8  5 10 11]]\n"
     ]
    }
   ],
   "source": [
    "alpha[:,2]=5\n",
    "print(alpha)"
   ]
  },
  {
   "cell_type": "code",
   "execution_count": 12,
   "id": "6b8ea58d-3eec-4d4c-852b-c89b9e3a72c8",
   "metadata": {},
   "outputs": [],
   "source": [
    "beta=np.array([ [[1,2,3],[4,5,6],[7,8,9]] , [[10,11,12],[13,14,15],[16,17,18]] ]);"
   ]
  },
  {
   "cell_type": "code",
   "execution_count": 13,
   "id": "d5fcec43-7556-4903-bb25-1a74059dfc2d",
   "metadata": {
    "scrolled": true
   },
   "outputs": [
    {
     "data": {
      "text/plain": [
       "(2, 3, 3)"
      ]
     },
     "execution_count": 13,
     "metadata": {},
     "output_type": "execute_result"
    }
   ],
   "source": [
    "beta.shape"
   ]
  },
  {
   "cell_type": "code",
   "execution_count": 237,
   "id": "dfae50e9-b4b6-4f03-a555-f239e46b7aab",
   "metadata": {},
   "outputs": [
    {
     "name": "stdout",
     "output_type": "stream",
     "text": [
      "[[[ 1  2  3]\n",
      "  [ 4  5  6]\n",
      "  [ 7  8  9]]\n",
      "\n",
      " [[10 11 12]\n",
      "  [13 14 15]\n",
      "  [16 17 18]]]\n",
      "\n",
      "-------\n",
      "\n",
      "[1 2 3]\n",
      "\n",
      "-------\n",
      "\n",
      "[2 5 8]\n"
     ]
    }
   ],
   "source": [
    "print(beta)\n",
    "print(\"\\n-------\\n\")\n",
    "print(beta[0][:][0])\n",
    "print(\"\\n-------\\n\")\n",
    "print(beta[0,:,1])"
   ]
  },
  {
   "cell_type": "code",
   "execution_count": 238,
   "id": "c4ff38d1-287a-4de8-ae2f-75b9d7ea7495",
   "metadata": {},
   "outputs": [
    {
     "data": {
      "text/plain": [
       "array([[ 4,  5,  6],\n",
       "       [13, 14, 15]])"
      ]
     },
     "execution_count": 238,
     "metadata": {},
     "output_type": "execute_result"
    }
   ],
   "source": [
    "beta[:,1,:]"
   ]
  },
  {
   "cell_type": "code",
   "execution_count": 239,
   "id": "a876a2c7-23a2-4637-983e-34cd23544cd0",
   "metadata": {},
   "outputs": [
    {
     "data": {
      "text/plain": [
       "array([[0., 0., 0.],\n",
       "       [0., 0., 0.]])"
      ]
     },
     "execution_count": 239,
     "metadata": {},
     "output_type": "execute_result"
    }
   ],
   "source": [
    "np.zeros((2,3))"
   ]
  },
  {
   "cell_type": "code",
   "execution_count": 240,
   "id": "5e30fa3a-9739-43f4-95a5-dab73b9eae56",
   "metadata": {},
   "outputs": [
    {
     "data": {
      "text/plain": [
       "array([[[1., 1., 1., 1.],\n",
       "        [1., 1., 1., 1.]],\n",
       "\n",
       "       [[1., 1., 1., 1.],\n",
       "        [1., 1., 1., 1.]],\n",
       "\n",
       "       [[1., 1., 1., 1.],\n",
       "        [1., 1., 1., 1.]]])"
      ]
     },
     "execution_count": 240,
     "metadata": {},
     "output_type": "execute_result"
    }
   ],
   "source": [
    "np.ones((3,2,4))"
   ]
  },
  {
   "cell_type": "code",
   "execution_count": 241,
   "id": "79f32956-74a3-4eb2-a39e-2bed2ca04da7",
   "metadata": {},
   "outputs": [
    {
     "data": {
      "text/plain": [
       "array([[4, 4, 4, 4, 4],\n",
       "       [4, 4, 4, 4, 4]])"
      ]
     },
     "execution_count": 241,
     "metadata": {},
     "output_type": "execute_result"
    }
   ],
   "source": [
    "np.full_like(alpha,4)"
   ]
  },
  {
   "cell_type": "code",
   "execution_count": 242,
   "id": "602c5a1a-3804-4409-893c-ccd3016fd8ec",
   "metadata": {},
   "outputs": [
    {
     "data": {
      "text/plain": [
       "array([[[0.28929528, 0.6253326 , 0.86170185],\n",
       "        [0.85992374, 0.15764228, 0.73546912]],\n",
       "\n",
       "       [[0.28164017, 0.85973141, 0.57080759],\n",
       "        [0.07768634, 0.81500853, 0.00444461]]])"
      ]
     },
     "execution_count": 242,
     "metadata": {},
     "output_type": "execute_result"
    }
   ],
   "source": [
    "np.random.rand(2,2,3)"
   ]
  },
  {
   "cell_type": "code",
   "execution_count": 243,
   "id": "72838e68-6997-4e12-8487-fda888863eb8",
   "metadata": {},
   "outputs": [
    {
     "data": {
      "text/plain": [
       "array([[[7.60547800e-01, 4.26016323e-01, 6.68900799e-01],\n",
       "        [9.52182947e-04, 9.99376101e-01, 4.46715075e-01],\n",
       "        [7.22304317e-01, 3.72003241e-01, 6.20087008e-01]],\n",
       "\n",
       "       [[9.91029556e-01, 2.22793492e-01, 6.21784687e-01],\n",
       "        [4.48146785e-01, 5.60877725e-01, 2.99844806e-01],\n",
       "        [9.54565288e-01, 3.39838101e-01, 6.99745479e-01]]])"
      ]
     },
     "execution_count": 243,
     "metadata": {},
     "output_type": "execute_result"
    }
   ],
   "source": [
    "np.random.random_sample(beta.shape)"
   ]
  },
  {
   "cell_type": "code",
   "execution_count": 244,
   "id": "69eff479-cb7a-4944-b200-1c179d8c728d",
   "metadata": {},
   "outputs": [
    {
     "name": "stdout",
     "output_type": "stream",
     "text": [
      "[[[2 2 5]\n",
      "  [4 2 2]\n",
      "  [8 7 0]]\n",
      "\n",
      " [[4 6 3]\n",
      "  [0 9 9]\n",
      "  [0 2 4]]\n",
      "\n",
      " [[7 3 7]\n",
      "  [0 4 8]\n",
      "  [5 9 7]]]\n"
     ]
    },
    {
     "data": {
      "text/plain": [
       "108"
      ]
     },
     "execution_count": 244,
     "metadata": {},
     "output_type": "execute_result"
    }
   ],
   "source": [
    "test=np.random.randint(10,size=(3,3,3),dtype=\"int32\")\n",
    "print(test)\n",
    "test.nbytes"
   ]
  },
  {
   "cell_type": "code",
   "execution_count": 245,
   "id": "b6a16145-db37-454a-ba1b-eab79bd0600d",
   "metadata": {},
   "outputs": [
    {
     "data": {
      "text/plain": [
       "array([[5., 0., 0.],\n",
       "       [0., 5., 0.],\n",
       "       [0., 0., 5.]])"
      ]
     },
     "execution_count": 245,
     "metadata": {},
     "output_type": "execute_result"
    }
   ],
   "source": [
    "5*np.identity(3)"
   ]
  },
  {
   "cell_type": "code",
   "execution_count": 246,
   "id": "fc8b3aee-5401-4ffd-82c7-eafde721e6f1",
   "metadata": {},
   "outputs": [
    {
     "name": "stdout",
     "output_type": "stream",
     "text": [
      "[[[ 1  2  3]\n",
      "  [ 4  5  6]\n",
      "  [ 7  8  9]]\n",
      "\n",
      " [[10 11 12]\n",
      "  [13 14 15]\n",
      "  [16 17 18]]]\n"
     ]
    },
    {
     "data": {
      "text/plain": [
       "array([[[ 1,  1,  2,  2,  3,  3],\n",
       "        [ 4,  4,  5,  5,  6,  6],\n",
       "        [ 7,  7,  8,  8,  9,  9]],\n",
       "\n",
       "       [[10, 10, 11, 11, 12, 12],\n",
       "        [13, 13, 14, 14, 15, 15],\n",
       "        [16, 16, 17, 17, 18, 18]]])"
      ]
     },
     "execution_count": 246,
     "metadata": {},
     "output_type": "execute_result"
    }
   ],
   "source": [
    "x = np.array([[1,2],[3,4]])\n",
    "print(beta)\n",
    "np.repeat(beta, 2, axis=2)"
   ]
  },
  {
   "cell_type": "code",
   "execution_count": 247,
   "id": "f419b6c8-e82d-4ed0-b48c-c8fc9c82272a",
   "metadata": {},
   "outputs": [
    {
     "data": {
      "text/plain": [
       "array([[[4, 4, 4],\n",
       "        [4, 4, 4],\n",
       "        [4, 4, 4]],\n",
       "\n",
       "       [[4, 4, 4],\n",
       "        [4, 4, 4],\n",
       "        [4, 4, 4]]])"
      ]
     },
     "execution_count": 247,
     "metadata": {},
     "output_type": "execute_result"
    }
   ],
   "source": [
    "np.full_like(beta,4)"
   ]
  },
  {
   "cell_type": "code",
   "execution_count": 248,
   "id": "c766b45a-b83e-4e02-854b-12c74867e178",
   "metadata": {},
   "outputs": [
    {
     "data": {
      "text/plain": [
       "array([[[0.49434186, 0.15024322, 0.99860229],\n",
       "        [0.45488188, 0.0360906 , 0.45616352],\n",
       "        [0.09728151, 0.5343966 , 0.40894303]],\n",
       "\n",
       "       [[0.73668962, 0.36923187, 0.01701183],\n",
       "        [0.96893574, 0.18720463, 0.60382424],\n",
       "        [0.97924598, 0.8089138 , 0.6556557 ]]])"
      ]
     },
     "execution_count": 248,
     "metadata": {},
     "output_type": "execute_result"
    }
   ],
   "source": [
    "np.random.random_sample(beta.shape)"
   ]
  },
  {
   "cell_type": "code",
   "execution_count": 249,
   "id": "e2f1a494-5b46-4c8f-90a9-5675e4c59cc0",
   "metadata": {},
   "outputs": [
    {
     "data": {
      "text/plain": [
       "array([[[0.10970812, 0.1487986 , 0.11923019],\n",
       "        [0.67146029, 0.36906131, 0.9522744 ],\n",
       "        [0.46060609, 0.57448966, 0.59210408]],\n",
       "\n",
       "       [[0.37701205, 0.92003879, 0.65767855],\n",
       "        [0.37294079, 0.48572942, 0.77822193],\n",
       "        [0.203558  , 0.61274309, 0.27866773]]])"
      ]
     },
     "execution_count": 249,
     "metadata": {},
     "output_type": "execute_result"
    }
   ],
   "source": [
    "np.random.rand(2,3,3)"
   ]
  },
  {
   "cell_type": "code",
   "execution_count": 250,
   "id": "5344bb73-f501-46df-be5c-e3e6c4493002",
   "metadata": {},
   "outputs": [
    {
     "data": {
      "text/plain": [
       "array([[[6, 6, 6],\n",
       "        [6, 6, 6],\n",
       "        [6, 6, 6]],\n",
       "\n",
       "       [[6, 6, 6],\n",
       "        [6, 6, 6],\n",
       "        [6, 6, 6]]])"
      ]
     },
     "execution_count": 250,
     "metadata": {},
     "output_type": "execute_result"
    }
   ],
   "source": [
    "np.random.randint(6,7,size=beta.shape)"
   ]
  },
  {
   "cell_type": "code",
   "execution_count": 251,
   "id": "762679d4-4af8-47d0-9a62-3713ff1672bd",
   "metadata": {},
   "outputs": [
    {
     "name": "stdout",
     "output_type": "stream",
     "text": [
      "\n",
      "-------------\n",
      "\n",
      "[[1. 1. 1. 1. 1.]\n",
      " [1. 0. 0. 0. 1.]\n",
      " [1. 0. 9. 0. 1.]\n",
      " [1. 0. 0. 0. 1.]\n",
      " [1. 1. 1. 1. 1.]]\n"
     ]
    }
   ],
   "source": [
    "vvi=np.ones((5,5));\n",
    "xo=np.full((3,3),0);\n",
    "vvi[1:4][:,1:4]=xo;\n",
    "vvi[2][2]=9;\n",
    "print(\"\\n-------------\\n\")\n",
    "print(vvi)"
   ]
  },
  {
   "cell_type": "code",
   "execution_count": 252,
   "id": "2562576c-19ab-48fc-be31-67860aef4013",
   "metadata": {},
   "outputs": [
    {
     "name": "stdout",
     "output_type": "stream",
     "text": [
      "[1. 2. 3.]\n"
     ]
    }
   ],
   "source": [
    "a=np.array([1,2,3],dtype=\"float\");\n",
    "b=a.copy();\n",
    "b[0]=99.9;\n",
    "print(a);"
   ]
  },
  {
   "cell_type": "code",
   "execution_count": 253,
   "id": "5e3aceb2-eb37-4191-ac51-be8ed0dd8909",
   "metadata": {},
   "outputs": [
    {
     "data": {
      "text/plain": [
       "array([0.84147098, 0.90929743, 0.14112001])"
      ]
     },
     "execution_count": 253,
     "metadata": {},
     "output_type": "execute_result"
    }
   ],
   "source": [
    "np.sin(a)"
   ]
  },
  {
   "cell_type": "code",
   "execution_count": 254,
   "id": "31f8577d-277d-4128-bbc6-38c2cb8fafe1",
   "metadata": {},
   "outputs": [
    {
     "name": "stdout",
     "output_type": "stream",
     "text": [
      "[[1. 1. 1.]\n",
      " [1. 1. 1.]]\n",
      "[[2 2]\n",
      " [2 2]\n",
      " [2 2]]\n",
      "[[6. 6.]\n",
      " [6. 6.]]\n"
     ]
    },
    {
     "data": {
      "text/plain": [
       "0.0"
      ]
     },
     "execution_count": 254,
     "metadata": {},
     "output_type": "execute_result"
    }
   ],
   "source": [
    "a=np.ones((2,3))\n",
    "print(a)\n",
    "b=np.full((3,2),2)\n",
    "print(b)\n",
    "c=np.matmul(a,b);\n",
    "print(c);\n",
    "np.linalg.det(c)"
   ]
  },
  {
   "cell_type": "code",
   "execution_count": 255,
   "id": "acf74f36-f187-4c23-a0bc-83a0a7e57e23",
   "metadata": {},
   "outputs": [
    {
     "data": {
      "text/plain": [
       "array([[[ 1,  2, -3,  0,  5,  6,  7,  8,  9, 10],\n",
       "        [11, 12, 13, 14, 15, 16, 17, 18, 19, 20],\n",
       "        [21, 22, 23, 24, 25, 26, 27, 28, 29, 30],\n",
       "        [31, 32, 33, 34, 35, 36, 37, 38, 39, 40]]], dtype=int32)"
      ]
     },
     "execution_count": 255,
     "metadata": {},
     "output_type": "execute_result"
    }
   ],
   "source": [
    "filedata=np.genfromtxt(\"data.txt\",delimiter=\",\",dtype=\"int32\");\n",
    "filedata[True]"
   ]
  },
  {
   "cell_type": "code",
   "execution_count": 256,
   "id": "2ee8b964-9b62-4b41-9cf0-71dcdf034537",
   "metadata": {},
   "outputs": [
    {
     "data": {
      "text/plain": [
       "array([2, 4])"
      ]
     },
     "execution_count": 256,
     "metadata": {},
     "output_type": "execute_result"
    }
   ],
   "source": [
    "a=np.array([1,2,3,4]);\n",
    "a[[False,True,False,True]]"
   ]
  },
  {
   "cell_type": "code",
   "execution_count": 257,
   "id": "005b4506-e480-4173-bd83-f3a008d002ea",
   "metadata": {},
   "outputs": [
    {
     "data": {
      "text/plain": [
       "array([1, 3, 2, 4])"
      ]
     },
     "execution_count": 257,
     "metadata": {},
     "output_type": "execute_result"
    }
   ],
   "source": [
    "a[[0,2,1,3]]"
   ]
  },
  {
   "cell_type": "markdown",
   "id": "8a607678-2336-4c5e-861f-9877cbbe3b30",
   "metadata": {
    "editable": true,
    "slideshow": {
     "slide_type": ""
    },
    "tags": []
   },
   "source": [
    "# Pandas"
   ]
  },
  {
   "cell_type": "code",
   "execution_count": 258,
   "id": "36fadac3-b3a8-4726-a938-816bd8ea6eea",
   "metadata": {},
   "outputs": [],
   "source": [
    "import pandas as pd"
   ]
  },
  {
   "cell_type": "code",
   "execution_count": 259,
   "id": "44a2154e-0101-468c-9c60-44b88e62d3e8",
   "metadata": {},
   "outputs": [],
   "source": [
    "dict1={\n",
    "    \"name\":[\"sourjya\",\"basu\",\"rick\"],\n",
    "    \"age\":[23,18,24],\n",
    "    \"marks\":[92,97,88]\n",
    "};"
   ]
  },
  {
   "cell_type": "code",
   "execution_count": 260,
   "id": "edaf657c-54e2-4b18-9d4e-858682aa8643",
   "metadata": {},
   "outputs": [],
   "source": [
    "df=pd.DataFrame(dict1)"
   ]
  },
  {
   "cell_type": "code",
   "execution_count": 261,
   "id": "e6a3ae58-384c-44dd-abef-151fdb779762",
   "metadata": {},
   "outputs": [],
   "source": [
    "df.to_csv(\"hello.txt\");"
   ]
  },
  {
   "cell_type": "code",
   "execution_count": 262,
   "id": "2b1b9b71-2c13-4f2a-accf-ce34695942de",
   "metadata": {},
   "outputs": [
    {
     "data": {
      "text/html": [
       "<div>\n",
       "<style scoped>\n",
       "    .dataframe tbody tr th:only-of-type {\n",
       "        vertical-align: middle;\n",
       "    }\n",
       "\n",
       "    .dataframe tbody tr th {\n",
       "        vertical-align: top;\n",
       "    }\n",
       "\n",
       "    .dataframe thead th {\n",
       "        text-align: right;\n",
       "    }\n",
       "</style>\n",
       "<table border=\"1\" class=\"dataframe\">\n",
       "  <thead>\n",
       "    <tr style=\"text-align: right;\">\n",
       "      <th></th>\n",
       "      <th>age</th>\n",
       "      <th>marks</th>\n",
       "    </tr>\n",
       "  </thead>\n",
       "  <tbody>\n",
       "    <tr>\n",
       "      <th>count</th>\n",
       "      <td>3.000000</td>\n",
       "      <td>3.000000</td>\n",
       "    </tr>\n",
       "    <tr>\n",
       "      <th>mean</th>\n",
       "      <td>21.666667</td>\n",
       "      <td>92.333333</td>\n",
       "    </tr>\n",
       "    <tr>\n",
       "      <th>std</th>\n",
       "      <td>3.214550</td>\n",
       "      <td>4.509250</td>\n",
       "    </tr>\n",
       "    <tr>\n",
       "      <th>min</th>\n",
       "      <td>18.000000</td>\n",
       "      <td>88.000000</td>\n",
       "    </tr>\n",
       "    <tr>\n",
       "      <th>25%</th>\n",
       "      <td>20.500000</td>\n",
       "      <td>90.000000</td>\n",
       "    </tr>\n",
       "    <tr>\n",
       "      <th>50%</th>\n",
       "      <td>23.000000</td>\n",
       "      <td>92.000000</td>\n",
       "    </tr>\n",
       "    <tr>\n",
       "      <th>75%</th>\n",
       "      <td>23.500000</td>\n",
       "      <td>94.500000</td>\n",
       "    </tr>\n",
       "    <tr>\n",
       "      <th>max</th>\n",
       "      <td>24.000000</td>\n",
       "      <td>97.000000</td>\n",
       "    </tr>\n",
       "  </tbody>\n",
       "</table>\n",
       "</div>"
      ],
      "text/plain": [
       "             age      marks\n",
       "count   3.000000   3.000000\n",
       "mean   21.666667  92.333333\n",
       "std     3.214550   4.509250\n",
       "min    18.000000  88.000000\n",
       "25%    20.500000  90.000000\n",
       "50%    23.000000  92.000000\n",
       "75%    23.500000  94.500000\n",
       "max    24.000000  97.000000"
      ]
     },
     "execution_count": 262,
     "metadata": {},
     "output_type": "execute_result"
    }
   ],
   "source": [
    "df.describe()"
   ]
  },
  {
   "cell_type": "code",
   "execution_count": 263,
   "id": "e0480bf4-ca1c-475f-ad77-8e6b9b60d807",
   "metadata": {},
   "outputs": [
    {
     "data": {
      "text/html": [
       "<div>\n",
       "<style scoped>\n",
       "    .dataframe tbody tr th:only-of-type {\n",
       "        vertical-align: middle;\n",
       "    }\n",
       "\n",
       "    .dataframe tbody tr th {\n",
       "        vertical-align: top;\n",
       "    }\n",
       "\n",
       "    .dataframe thead th {\n",
       "        text-align: right;\n",
       "    }\n",
       "</style>\n",
       "<table border=\"1\" class=\"dataframe\">\n",
       "  <thead>\n",
       "    <tr style=\"text-align: right;\">\n",
       "      <th></th>\n",
       "      <th>name</th>\n",
       "      <th>age</th>\n",
       "      <th>marks</th>\n",
       "    </tr>\n",
       "  </thead>\n",
       "  <tbody>\n",
       "    <tr>\n",
       "      <th>0</th>\n",
       "      <td>sourjya</td>\n",
       "      <td>23</td>\n",
       "      <td>92</td>\n",
       "    </tr>\n",
       "  </tbody>\n",
       "</table>\n",
       "</div>"
      ],
      "text/plain": [
       "      name  age  marks\n",
       "0  sourjya   23     92"
      ]
     },
     "execution_count": 263,
     "metadata": {},
     "output_type": "execute_result"
    }
   ],
   "source": [
    "df.head(1)"
   ]
  },
  {
   "cell_type": "code",
   "execution_count": 264,
   "id": "b313d0f7-eb38-4f7a-b303-2f7bd45144d3",
   "metadata": {},
   "outputs": [],
   "source": [
    "train=pd.read_csv(\"train.csv\")"
   ]
  },
  {
   "cell_type": "code",
   "execution_count": 265,
   "id": "78ebd205-805a-46d7-96b5-0d57cdf600a4",
   "metadata": {},
   "outputs": [
    {
     "data": {
      "text/html": [
       "<div>\n",
       "<style scoped>\n",
       "    .dataframe tbody tr th:only-of-type {\n",
       "        vertical-align: middle;\n",
       "    }\n",
       "\n",
       "    .dataframe tbody tr th {\n",
       "        vertical-align: top;\n",
       "    }\n",
       "\n",
       "    .dataframe thead th {\n",
       "        text-align: right;\n",
       "    }\n",
       "</style>\n",
       "<table border=\"1\" class=\"dataframe\">\n",
       "  <thead>\n",
       "    <tr style=\"text-align: right;\">\n",
       "      <th></th>\n",
       "      <th>name</th>\n",
       "      <th>speed</th>\n",
       "      <th>city</th>\n",
       "    </tr>\n",
       "  </thead>\n",
       "  <tbody>\n",
       "    <tr>\n",
       "      <th>0</th>\n",
       "      <td>sourjya</td>\n",
       "      <td>23</td>\n",
       "      <td>vadodara</td>\n",
       "    </tr>\n",
       "    <tr>\n",
       "      <th>1</th>\n",
       "      <td>basu</td>\n",
       "      <td>18</td>\n",
       "      <td>surat</td>\n",
       "    </tr>\n",
       "    <tr>\n",
       "      <th>2</th>\n",
       "      <td>rick</td>\n",
       "      <td>24</td>\n",
       "      <td>gandhinagar</td>\n",
       "    </tr>\n",
       "  </tbody>\n",
       "</table>\n",
       "</div>"
      ],
      "text/plain": [
       "      name  speed         city\n",
       "0  sourjya     23     vadodara\n",
       "1     basu     18        surat\n",
       "2     rick     24  gandhinagar"
      ]
     },
     "execution_count": 265,
     "metadata": {},
     "output_type": "execute_result"
    }
   ],
   "source": [
    "train"
   ]
  },
  {
   "cell_type": "code",
   "execution_count": 266,
   "id": "ac9413c6-4176-47d8-b8ac-ef1a5196bb0c",
   "metadata": {
    "editable": true,
    "slideshow": {
     "slide_type": ""
    },
    "tags": []
   },
   "outputs": [
    {
     "name": "stderr",
     "output_type": "stream",
     "text": [
      "/tmp/ipykernel_2501/2920635934.py:1: FutureWarning: ChainedAssignmentError: behaviour will change in pandas 3.0!\n",
      "You are setting values through chained assignment. Currently this works in certain cases, but when using Copy-on-Write (which will become the default behaviour in pandas 3.0) this will never work to update the original DataFrame or Series, because the intermediate object on which we are setting values will behave as a copy.\n",
      "A typical example is when you are setting values in a column of a DataFrame, like:\n",
      "\n",
      "df[\"col\"][row_indexer] = value\n",
      "\n",
      "Use `df.loc[row_indexer, \"col\"] = values` instead, to perform the assignment in a single step and ensure this keeps updating the original `df`.\n",
      "\n",
      "See the caveats in the documentation: https://pandas.pydata.org/pandas-docs/stable/user_guide/indexing.html#returning-a-view-versus-a-copy\n",
      "\n",
      "  train[\"speed\"][0]=50\n",
      "/tmp/ipykernel_2501/2920635934.py:1: SettingWithCopyWarning: \n",
      "A value is trying to be set on a copy of a slice from a DataFrame\n",
      "\n",
      "See the caveats in the documentation: https://pandas.pydata.org/pandas-docs/stable/user_guide/indexing.html#returning-a-view-versus-a-copy\n",
      "  train[\"speed\"][0]=50\n"
     ]
    }
   ],
   "source": [
    "train[\"speed\"][0]=50"
   ]
  },
  {
   "cell_type": "code",
   "execution_count": 267,
   "id": "98b746b1-b290-4c82-b910-00552bdcd62d",
   "metadata": {},
   "outputs": [
    {
     "data": {
      "text/html": [
       "<div>\n",
       "<style scoped>\n",
       "    .dataframe tbody tr th:only-of-type {\n",
       "        vertical-align: middle;\n",
       "    }\n",
       "\n",
       "    .dataframe tbody tr th {\n",
       "        vertical-align: top;\n",
       "    }\n",
       "\n",
       "    .dataframe thead th {\n",
       "        text-align: right;\n",
       "    }\n",
       "</style>\n",
       "<table border=\"1\" class=\"dataframe\">\n",
       "  <thead>\n",
       "    <tr style=\"text-align: right;\">\n",
       "      <th></th>\n",
       "      <th>name</th>\n",
       "      <th>speed</th>\n",
       "      <th>city</th>\n",
       "    </tr>\n",
       "  </thead>\n",
       "  <tbody>\n",
       "    <tr>\n",
       "      <th>0</th>\n",
       "      <td>sourjya</td>\n",
       "      <td>50</td>\n",
       "      <td>vadodara</td>\n",
       "    </tr>\n",
       "    <tr>\n",
       "      <th>1</th>\n",
       "      <td>basu</td>\n",
       "      <td>18</td>\n",
       "      <td>surat</td>\n",
       "    </tr>\n",
       "    <tr>\n",
       "      <th>2</th>\n",
       "      <td>rick</td>\n",
       "      <td>24</td>\n",
       "      <td>gandhinagar</td>\n",
       "    </tr>\n",
       "  </tbody>\n",
       "</table>\n",
       "</div>"
      ],
      "text/plain": [
       "      name  speed         city\n",
       "0  sourjya     50     vadodara\n",
       "1     basu     18        surat\n",
       "2     rick     24  gandhinagar"
      ]
     },
     "execution_count": 267,
     "metadata": {},
     "output_type": "execute_result"
    }
   ],
   "source": [
    "train"
   ]
  },
  {
   "cell_type": "code",
   "execution_count": 268,
   "id": "575d99e7-d9b8-4d6c-8234-3abf5663fe04",
   "metadata": {
    "editable": true,
    "slideshow": {
     "slide_type": ""
    },
    "tags": []
   },
   "outputs": [
    {
     "data": {
      "text/plain": [
       "'name'"
      ]
     },
     "execution_count": 268,
     "metadata": {},
     "output_type": "execute_result"
    }
   ],
   "source": [
    "df.columns[0]"
   ]
  },
  {
   "cell_type": "code",
   "execution_count": 269,
   "id": "b32fdd57-f565-4a87-b827-699961d8d180",
   "metadata": {
    "editable": true,
    "slideshow": {
     "slide_type": ""
    },
    "tags": []
   },
   "outputs": [],
   "source": [
    "train.to_csv(\"train1.csv\",index=True);"
   ]
  },
  {
   "cell_type": "code",
   "execution_count": 270,
   "id": "a309acff-9a74-46e6-b53e-11b340118876",
   "metadata": {},
   "outputs": [],
   "source": [
    "train.index=[\"a\",\"b\",\"c\"]"
   ]
  },
  {
   "cell_type": "code",
   "execution_count": 271,
   "id": "d467b3cf-33cf-40f3-98bc-cb70212fa26f",
   "metadata": {},
   "outputs": [
    {
     "data": {
      "text/html": [
       "<div>\n",
       "<style scoped>\n",
       "    .dataframe tbody tr th:only-of-type {\n",
       "        vertical-align: middle;\n",
       "    }\n",
       "\n",
       "    .dataframe tbody tr th {\n",
       "        vertical-align: top;\n",
       "    }\n",
       "\n",
       "    .dataframe thead th {\n",
       "        text-align: right;\n",
       "    }\n",
       "</style>\n",
       "<table border=\"1\" class=\"dataframe\">\n",
       "  <thead>\n",
       "    <tr style=\"text-align: right;\">\n",
       "      <th></th>\n",
       "      <th>name</th>\n",
       "      <th>speed</th>\n",
       "      <th>city</th>\n",
       "    </tr>\n",
       "  </thead>\n",
       "  <tbody>\n",
       "    <tr>\n",
       "      <th>a</th>\n",
       "      <td>sourjya</td>\n",
       "      <td>50</td>\n",
       "      <td>vadodara</td>\n",
       "    </tr>\n",
       "    <tr>\n",
       "      <th>b</th>\n",
       "      <td>basu</td>\n",
       "      <td>18</td>\n",
       "      <td>surat</td>\n",
       "    </tr>\n",
       "    <tr>\n",
       "      <th>c</th>\n",
       "      <td>rick</td>\n",
       "      <td>24</td>\n",
       "      <td>gandhinagar</td>\n",
       "    </tr>\n",
       "  </tbody>\n",
       "</table>\n",
       "</div>"
      ],
      "text/plain": [
       "      name  speed         city\n",
       "a  sourjya     50     vadodara\n",
       "b     basu     18        surat\n",
       "c     rick     24  gandhinagar"
      ]
     },
     "execution_count": 271,
     "metadata": {},
     "output_type": "execute_result"
    }
   ],
   "source": [
    "train"
   ]
  },
  {
   "cell_type": "code",
   "execution_count": 272,
   "id": "776a5972-ca62-4c6d-bdd7-d8b51bb60ae0",
   "metadata": {},
   "outputs": [
    {
     "data": {
      "text/plain": [
       "pandas.core.frame.DataFrame"
      ]
     },
     "execution_count": 272,
     "metadata": {},
     "output_type": "execute_result"
    }
   ],
   "source": [
    "type(train)"
   ]
  },
  {
   "cell_type": "code",
   "execution_count": 273,
   "id": "5ceb8b45-65f5-4a5b-af67-1b6c0e986549",
   "metadata": {},
   "outputs": [
    {
     "data": {
      "text/plain": [
       "pandas.core.series.Series"
      ]
     },
     "execution_count": 273,
     "metadata": {},
     "output_type": "execute_result"
    }
   ],
   "source": [
    "type(pd.Series(np.random.rand(10)))"
   ]
  },
  {
   "cell_type": "code",
   "execution_count": 274,
   "id": "47d51421-abd1-42d1-b96b-c3f60f64ae4b",
   "metadata": {},
   "outputs": [
    {
     "data": {
      "text/plain": [
       "array([  0,   1,   2,   3,   4,   5,   6,   7,   8,   9,  10,  11,  12,\n",
       "        13,  14,  15,  16,  17,  18,  19,  20,  21,  22,  23,  24,  25,\n",
       "        26,  27,  28,  29,  30,  31,  32,  33,  34,  35,  36,  37,  38,\n",
       "        39,  40,  41,  42,  43,  44,  45,  46,  47,  48,  49,  50,  51,\n",
       "        52,  53,  54,  55,  56,  57,  58,  59,  60,  61,  62,  63,  64,\n",
       "        65,  66,  67,  68,  69,  70,  71,  72,  73,  74,  75,  76,  77,\n",
       "        78,  79,  80,  81,  82,  83,  84,  85,  86,  87,  88,  89,  90,\n",
       "        91,  92,  93,  94,  95,  96,  97,  98,  99, 100, 101, 102, 103,\n",
       "       104, 105, 106, 107, 108, 109, 110, 111, 112, 113, 114, 115, 116,\n",
       "       117, 118, 119, 120, 121, 122, 123, 124, 125, 126, 127, 128, 129,\n",
       "       130, 131, 132, 133, 134, 135, 136, 137, 138, 139, 140, 141, 142,\n",
       "       143, 144, 145, 146, 147, 148, 149, 150, 151, 152, 153, 154, 155,\n",
       "       156, 157, 158, 159, 160, 161, 162, 163, 164, 165, 166, 167, 168,\n",
       "       169, 170, 171, 172, 173, 174, 175, 176, 177, 178, 179, 180, 181,\n",
       "       182, 183, 184, 185, 186, 187, 188, 189, 190, 191, 192, 193, 194,\n",
       "       195, 196, 197, 198, 199, 200, 201, 202, 203, 204, 205, 206, 207,\n",
       "       208, 209, 210, 211, 212, 213, 214, 215, 216, 217, 218, 219, 220,\n",
       "       221, 222, 223, 224, 225, 226, 227, 228, 229, 230, 231, 232, 233,\n",
       "       234, 235, 236, 237, 238, 239, 240, 241, 242, 243, 244, 245, 246,\n",
       "       247, 248, 249, 250, 251, 252, 253, 254, 255, 256, 257, 258, 259,\n",
       "       260, 261, 262, 263, 264, 265, 266, 267, 268, 269, 270, 271, 272,\n",
       "       273, 274, 275, 276, 277, 278, 279, 280, 281, 282, 283, 284, 285,\n",
       "       286, 287, 288, 289, 290, 291, 292, 293, 294, 295, 296, 297, 298,\n",
       "       299, 300, 301, 302, 303, 304, 305, 306, 307, 308, 309, 310, 311,\n",
       "       312, 313, 314, 315, 316, 317, 318, 319, 320, 321, 322, 323, 324,\n",
       "       325, 326, 327, 328, 329, 330, 331, 332, 333])"
      ]
     },
     "execution_count": 274,
     "metadata": {},
     "output_type": "execute_result"
    }
   ],
   "source": [
    "np.arange(334)"
   ]
  },
  {
   "cell_type": "code",
   "execution_count": 275,
   "id": "a026d227-1923-44f0-baa1-54f4db4ae626",
   "metadata": {},
   "outputs": [
    {
     "data": {
      "text/html": [
       "<div>\n",
       "<style scoped>\n",
       "    .dataframe tbody tr th:only-of-type {\n",
       "        vertical-align: middle;\n",
       "    }\n",
       "\n",
       "    .dataframe tbody tr th {\n",
       "        vertical-align: top;\n",
       "    }\n",
       "\n",
       "    .dataframe thead th {\n",
       "        text-align: right;\n",
       "    }\n",
       "</style>\n",
       "<table border=\"1\" class=\"dataframe\">\n",
       "  <thead>\n",
       "    <tr style=\"text-align: right;\">\n",
       "      <th></th>\n",
       "      <th>0</th>\n",
       "      <th>1</th>\n",
       "      <th>2</th>\n",
       "      <th>3</th>\n",
       "      <th>4</th>\n",
       "    </tr>\n",
       "  </thead>\n",
       "  <tbody>\n",
       "    <tr>\n",
       "      <th>1</th>\n",
       "      <td>0.059310</td>\n",
       "      <td>0.085597</td>\n",
       "      <td>0.526608</td>\n",
       "      <td>0.866975</td>\n",
       "      <td>0.160225</td>\n",
       "    </tr>\n",
       "    <tr>\n",
       "      <th>2</th>\n",
       "      <td>0.704846</td>\n",
       "      <td>0.273390</td>\n",
       "      <td>0.757600</td>\n",
       "      <td>0.692157</td>\n",
       "      <td>0.987609</td>\n",
       "    </tr>\n",
       "    <tr>\n",
       "      <th>3</th>\n",
       "      <td>0.474677</td>\n",
       "      <td>0.149488</td>\n",
       "      <td>0.578163</td>\n",
       "      <td>0.716557</td>\n",
       "      <td>0.327269</td>\n",
       "    </tr>\n",
       "    <tr>\n",
       "      <th>4</th>\n",
       "      <td>0.823744</td>\n",
       "      <td>0.850481</td>\n",
       "      <td>0.884853</td>\n",
       "      <td>0.176255</td>\n",
       "      <td>0.179566</td>\n",
       "    </tr>\n",
       "    <tr>\n",
       "      <th>5</th>\n",
       "      <td>0.406723</td>\n",
       "      <td>0.666363</td>\n",
       "      <td>0.247438</td>\n",
       "      <td>0.004502</td>\n",
       "      <td>0.817327</td>\n",
       "    </tr>\n",
       "  </tbody>\n",
       "</table>\n",
       "</div>"
      ],
      "text/plain": [
       "          0         1         2         3         4\n",
       "1  0.059310  0.085597  0.526608  0.866975  0.160225\n",
       "2  0.704846  0.273390  0.757600  0.692157  0.987609\n",
       "3  0.474677  0.149488  0.578163  0.716557  0.327269\n",
       "4  0.823744  0.850481  0.884853  0.176255  0.179566\n",
       "5  0.406723  0.666363  0.247438  0.004502  0.817327"
      ]
     },
     "execution_count": 275,
     "metadata": {},
     "output_type": "execute_result"
    }
   ],
   "source": [
    "newdf=pd.DataFrame(np.random.rand(334,5),index=1+np.arange(334))\n",
    "newdf.head()"
   ]
  },
  {
   "cell_type": "code",
   "execution_count": 276,
   "id": "1c490e2d-e5d0-45bc-a6e5-0ef57be352a7",
   "metadata": {},
   "outputs": [
    {
     "data": {
      "text/plain": [
       "0    float64\n",
       "1    float64\n",
       "2    float64\n",
       "3    float64\n",
       "4    float64\n",
       "dtype: object"
      ]
     },
     "execution_count": 276,
     "metadata": {},
     "output_type": "execute_result"
    }
   ],
   "source": [
    "newdf.dtypes"
   ]
  },
  {
   "cell_type": "code",
   "execution_count": 277,
   "id": "14f90139-9be9-4eeb-b585-8ec960d6910e",
   "metadata": {},
   "outputs": [
    {
     "name": "stderr",
     "output_type": "stream",
     "text": [
      "/tmp/ipykernel_2501/426065390.py:1: FutureWarning: ChainedAssignmentError: behaviour will change in pandas 3.0!\n",
      "You are setting values through chained assignment. Currently this works in certain cases, but when using Copy-on-Write (which will become the default behaviour in pandas 3.0) this will never work to update the original DataFrame or Series, because the intermediate object on which we are setting values will behave as a copy.\n",
      "A typical example is when you are setting values in a column of a DataFrame, like:\n",
      "\n",
      "df[\"col\"][row_indexer] = value\n",
      "\n",
      "Use `df.loc[row_indexer, \"col\"] = values` instead, to perform the assignment in a single step and ensure this keeps updating the original `df`.\n",
      "\n",
      "See the caveats in the documentation: https://pandas.pydata.org/pandas-docs/stable/user_guide/indexing.html#returning-a-view-versus-a-copy\n",
      "\n",
      "  newdf[0][0] = 124\n"
     ]
    }
   ],
   "source": [
    "newdf[0][0] = 124"
   ]
  },
  {
   "cell_type": "code",
   "execution_count": 278,
   "id": "0d0662e6-bf4b-468b-8778-d04fcb05e90f",
   "metadata": {},
   "outputs": [
    {
     "data": {
      "text/html": [
       "<div>\n",
       "<style scoped>\n",
       "    .dataframe tbody tr th:only-of-type {\n",
       "        vertical-align: middle;\n",
       "    }\n",
       "\n",
       "    .dataframe tbody tr th {\n",
       "        vertical-align: top;\n",
       "    }\n",
       "\n",
       "    .dataframe thead th {\n",
       "        text-align: right;\n",
       "    }\n",
       "</style>\n",
       "<table border=\"1\" class=\"dataframe\">\n",
       "  <thead>\n",
       "    <tr style=\"text-align: right;\">\n",
       "      <th></th>\n",
       "      <th>0</th>\n",
       "      <th>1</th>\n",
       "      <th>2</th>\n",
       "      <th>3</th>\n",
       "      <th>4</th>\n",
       "    </tr>\n",
       "  </thead>\n",
       "  <tbody>\n",
       "    <tr>\n",
       "      <th>1</th>\n",
       "      <td>0.059310</td>\n",
       "      <td>0.085597</td>\n",
       "      <td>0.526608</td>\n",
       "      <td>0.866975</td>\n",
       "      <td>0.160225</td>\n",
       "    </tr>\n",
       "    <tr>\n",
       "      <th>2</th>\n",
       "      <td>0.704846</td>\n",
       "      <td>0.273390</td>\n",
       "      <td>0.757600</td>\n",
       "      <td>0.692157</td>\n",
       "      <td>0.987609</td>\n",
       "    </tr>\n",
       "    <tr>\n",
       "      <th>3</th>\n",
       "      <td>0.474677</td>\n",
       "      <td>0.149488</td>\n",
       "      <td>0.578163</td>\n",
       "      <td>0.716557</td>\n",
       "      <td>0.327269</td>\n",
       "    </tr>\n",
       "    <tr>\n",
       "      <th>4</th>\n",
       "      <td>0.823744</td>\n",
       "      <td>0.850481</td>\n",
       "      <td>0.884853</td>\n",
       "      <td>0.176255</td>\n",
       "      <td>0.179566</td>\n",
       "    </tr>\n",
       "    <tr>\n",
       "      <th>5</th>\n",
       "      <td>0.406723</td>\n",
       "      <td>0.666363</td>\n",
       "      <td>0.247438</td>\n",
       "      <td>0.004502</td>\n",
       "      <td>0.817327</td>\n",
       "    </tr>\n",
       "  </tbody>\n",
       "</table>\n",
       "</div>"
      ],
      "text/plain": [
       "          0         1         2         3         4\n",
       "1  0.059310  0.085597  0.526608  0.866975  0.160225\n",
       "2  0.704846  0.273390  0.757600  0.692157  0.987609\n",
       "3  0.474677  0.149488  0.578163  0.716557  0.327269\n",
       "4  0.823744  0.850481  0.884853  0.176255  0.179566\n",
       "5  0.406723  0.666363  0.247438  0.004502  0.817327"
      ]
     },
     "execution_count": 278,
     "metadata": {},
     "output_type": "execute_result"
    }
   ],
   "source": [
    "newdf.head()"
   ]
  },
  {
   "cell_type": "code",
   "execution_count": 279,
   "id": "420fade9-202b-400f-a046-1f332b32df49",
   "metadata": {},
   "outputs": [
    {
     "data": {
      "text/plain": [
       "dtype('float64')"
      ]
     },
     "execution_count": 279,
     "metadata": {},
     "output_type": "execute_result"
    }
   ],
   "source": [
    "newdf.to_numpy().dtype"
   ]
  },
  {
   "cell_type": "code",
   "execution_count": 280,
   "id": "23c13524-a9bc-4b17-a19e-3aca8210a898",
   "metadata": {},
   "outputs": [
    {
     "data": {
      "text/html": [
       "<div>\n",
       "<style scoped>\n",
       "    .dataframe tbody tr th:only-of-type {\n",
       "        vertical-align: middle;\n",
       "    }\n",
       "\n",
       "    .dataframe tbody tr th {\n",
       "        vertical-align: top;\n",
       "    }\n",
       "\n",
       "    .dataframe thead th {\n",
       "        text-align: right;\n",
       "    }\n",
       "</style>\n",
       "<table border=\"1\" class=\"dataframe\">\n",
       "  <thead>\n",
       "    <tr style=\"text-align: right;\">\n",
       "      <th></th>\n",
       "      <th>0</th>\n",
       "      <th>1</th>\n",
       "      <th>2</th>\n",
       "      <th>3</th>\n",
       "      <th>4</th>\n",
       "    </tr>\n",
       "  </thead>\n",
       "  <tbody>\n",
       "    <tr>\n",
       "      <th>1</th>\n",
       "      <td>0.059310</td>\n",
       "      <td>0.085597</td>\n",
       "      <td>0.526608</td>\n",
       "      <td>0.866975</td>\n",
       "      <td>0.160225</td>\n",
       "    </tr>\n",
       "    <tr>\n",
       "      <th>2</th>\n",
       "      <td>0.704846</td>\n",
       "      <td>0.273390</td>\n",
       "      <td>0.757600</td>\n",
       "      <td>0.692157</td>\n",
       "      <td>0.987609</td>\n",
       "    </tr>\n",
       "    <tr>\n",
       "      <th>3</th>\n",
       "      <td>0.474677</td>\n",
       "      <td>0.149488</td>\n",
       "      <td>0.578163</td>\n",
       "      <td>0.716557</td>\n",
       "      <td>0.327269</td>\n",
       "    </tr>\n",
       "    <tr>\n",
       "      <th>4</th>\n",
       "      <td>0.823744</td>\n",
       "      <td>0.850481</td>\n",
       "      <td>0.884853</td>\n",
       "      <td>0.176255</td>\n",
       "      <td>0.179566</td>\n",
       "    </tr>\n",
       "    <tr>\n",
       "      <th>5</th>\n",
       "      <td>0.406723</td>\n",
       "      <td>0.666363</td>\n",
       "      <td>0.247438</td>\n",
       "      <td>0.004502</td>\n",
       "      <td>0.817327</td>\n",
       "    </tr>\n",
       "    <tr>\n",
       "      <th>...</th>\n",
       "      <td>...</td>\n",
       "      <td>...</td>\n",
       "      <td>...</td>\n",
       "      <td>...</td>\n",
       "      <td>...</td>\n",
       "    </tr>\n",
       "    <tr>\n",
       "      <th>330</th>\n",
       "      <td>0.785849</td>\n",
       "      <td>0.814131</td>\n",
       "      <td>0.041565</td>\n",
       "      <td>0.188848</td>\n",
       "      <td>0.721388</td>\n",
       "    </tr>\n",
       "    <tr>\n",
       "      <th>331</th>\n",
       "      <td>0.853107</td>\n",
       "      <td>0.771688</td>\n",
       "      <td>0.250508</td>\n",
       "      <td>0.087661</td>\n",
       "      <td>0.038315</td>\n",
       "    </tr>\n",
       "    <tr>\n",
       "      <th>332</th>\n",
       "      <td>0.033780</td>\n",
       "      <td>0.926594</td>\n",
       "      <td>0.211243</td>\n",
       "      <td>0.548711</td>\n",
       "      <td>0.367709</td>\n",
       "    </tr>\n",
       "    <tr>\n",
       "      <th>333</th>\n",
       "      <td>0.776703</td>\n",
       "      <td>0.952058</td>\n",
       "      <td>0.848862</td>\n",
       "      <td>0.346143</td>\n",
       "      <td>0.585943</td>\n",
       "    </tr>\n",
       "    <tr>\n",
       "      <th>334</th>\n",
       "      <td>0.137914</td>\n",
       "      <td>0.820643</td>\n",
       "      <td>0.403255</td>\n",
       "      <td>0.717812</td>\n",
       "      <td>0.674899</td>\n",
       "    </tr>\n",
       "  </tbody>\n",
       "</table>\n",
       "<p>334 rows × 5 columns</p>\n",
       "</div>"
      ],
      "text/plain": [
       "            0         1         2         3         4\n",
       "1    0.059310  0.085597  0.526608  0.866975  0.160225\n",
       "2    0.704846  0.273390  0.757600  0.692157  0.987609\n",
       "3    0.474677  0.149488  0.578163  0.716557  0.327269\n",
       "4    0.823744  0.850481  0.884853  0.176255  0.179566\n",
       "5    0.406723  0.666363  0.247438  0.004502  0.817327\n",
       "..        ...       ...       ...       ...       ...\n",
       "330  0.785849  0.814131  0.041565  0.188848  0.721388\n",
       "331  0.853107  0.771688  0.250508  0.087661  0.038315\n",
       "332  0.033780  0.926594  0.211243  0.548711  0.367709\n",
       "333  0.776703  0.952058  0.848862  0.346143  0.585943\n",
       "334  0.137914  0.820643  0.403255  0.717812  0.674899\n",
       "\n",
       "[334 rows x 5 columns]"
      ]
     },
     "execution_count": 280,
     "metadata": {},
     "output_type": "execute_result"
    }
   ],
   "source": [
    "newdf"
   ]
  },
  {
   "cell_type": "code",
   "execution_count": 281,
   "id": "460df2e8-ff7f-4317-afce-bd587bc75c53",
   "metadata": {},
   "outputs": [
    {
     "data": {
      "text/html": [
       "<div>\n",
       "<style scoped>\n",
       "    .dataframe tbody tr th:only-of-type {\n",
       "        vertical-align: middle;\n",
       "    }\n",
       "\n",
       "    .dataframe tbody tr th {\n",
       "        vertical-align: top;\n",
       "    }\n",
       "\n",
       "    .dataframe thead th {\n",
       "        text-align: right;\n",
       "    }\n",
       "</style>\n",
       "<table border=\"1\" class=\"dataframe\">\n",
       "  <thead>\n",
       "    <tr style=\"text-align: right;\">\n",
       "      <th></th>\n",
       "      <th>1</th>\n",
       "      <th>2</th>\n",
       "      <th>3</th>\n",
       "      <th>4</th>\n",
       "      <th>5</th>\n",
       "      <th>6</th>\n",
       "      <th>7</th>\n",
       "      <th>8</th>\n",
       "      <th>9</th>\n",
       "      <th>10</th>\n",
       "      <th>...</th>\n",
       "      <th>325</th>\n",
       "      <th>326</th>\n",
       "      <th>327</th>\n",
       "      <th>328</th>\n",
       "      <th>329</th>\n",
       "      <th>330</th>\n",
       "      <th>331</th>\n",
       "      <th>332</th>\n",
       "      <th>333</th>\n",
       "      <th>334</th>\n",
       "    </tr>\n",
       "  </thead>\n",
       "  <tbody>\n",
       "    <tr>\n",
       "      <th>0</th>\n",
       "      <td>0.059310</td>\n",
       "      <td>0.704846</td>\n",
       "      <td>0.474677</td>\n",
       "      <td>0.823744</td>\n",
       "      <td>0.406723</td>\n",
       "      <td>0.136744</td>\n",
       "      <td>0.786014</td>\n",
       "      <td>0.067641</td>\n",
       "      <td>0.951896</td>\n",
       "      <td>0.650471</td>\n",
       "      <td>...</td>\n",
       "      <td>0.046686</td>\n",
       "      <td>0.048350</td>\n",
       "      <td>0.626856</td>\n",
       "      <td>0.995522</td>\n",
       "      <td>0.426065</td>\n",
       "      <td>0.785849</td>\n",
       "      <td>0.853107</td>\n",
       "      <td>0.033780</td>\n",
       "      <td>0.776703</td>\n",
       "      <td>0.137914</td>\n",
       "    </tr>\n",
       "    <tr>\n",
       "      <th>1</th>\n",
       "      <td>0.085597</td>\n",
       "      <td>0.273390</td>\n",
       "      <td>0.149488</td>\n",
       "      <td>0.850481</td>\n",
       "      <td>0.666363</td>\n",
       "      <td>0.227788</td>\n",
       "      <td>0.775941</td>\n",
       "      <td>0.914135</td>\n",
       "      <td>0.446905</td>\n",
       "      <td>0.847686</td>\n",
       "      <td>...</td>\n",
       "      <td>0.788150</td>\n",
       "      <td>0.261703</td>\n",
       "      <td>0.568342</td>\n",
       "      <td>0.639972</td>\n",
       "      <td>0.222072</td>\n",
       "      <td>0.814131</td>\n",
       "      <td>0.771688</td>\n",
       "      <td>0.926594</td>\n",
       "      <td>0.952058</td>\n",
       "      <td>0.820643</td>\n",
       "    </tr>\n",
       "    <tr>\n",
       "      <th>2</th>\n",
       "      <td>0.526608</td>\n",
       "      <td>0.757600</td>\n",
       "      <td>0.578163</td>\n",
       "      <td>0.884853</td>\n",
       "      <td>0.247438</td>\n",
       "      <td>0.579106</td>\n",
       "      <td>0.034835</td>\n",
       "      <td>0.315368</td>\n",
       "      <td>0.982547</td>\n",
       "      <td>0.409304</td>\n",
       "      <td>...</td>\n",
       "      <td>0.363153</td>\n",
       "      <td>0.297265</td>\n",
       "      <td>0.525800</td>\n",
       "      <td>0.562109</td>\n",
       "      <td>0.085815</td>\n",
       "      <td>0.041565</td>\n",
       "      <td>0.250508</td>\n",
       "      <td>0.211243</td>\n",
       "      <td>0.848862</td>\n",
       "      <td>0.403255</td>\n",
       "    </tr>\n",
       "    <tr>\n",
       "      <th>3</th>\n",
       "      <td>0.866975</td>\n",
       "      <td>0.692157</td>\n",
       "      <td>0.716557</td>\n",
       "      <td>0.176255</td>\n",
       "      <td>0.004502</td>\n",
       "      <td>0.368356</td>\n",
       "      <td>0.246392</td>\n",
       "      <td>0.354777</td>\n",
       "      <td>0.584615</td>\n",
       "      <td>0.336283</td>\n",
       "      <td>...</td>\n",
       "      <td>0.363021</td>\n",
       "      <td>0.950678</td>\n",
       "      <td>0.179127</td>\n",
       "      <td>0.116873</td>\n",
       "      <td>0.511963</td>\n",
       "      <td>0.188848</td>\n",
       "      <td>0.087661</td>\n",
       "      <td>0.548711</td>\n",
       "      <td>0.346143</td>\n",
       "      <td>0.717812</td>\n",
       "    </tr>\n",
       "    <tr>\n",
       "      <th>4</th>\n",
       "      <td>0.160225</td>\n",
       "      <td>0.987609</td>\n",
       "      <td>0.327269</td>\n",
       "      <td>0.179566</td>\n",
       "      <td>0.817327</td>\n",
       "      <td>0.970449</td>\n",
       "      <td>0.640579</td>\n",
       "      <td>0.732610</td>\n",
       "      <td>0.371758</td>\n",
       "      <td>0.932102</td>\n",
       "      <td>...</td>\n",
       "      <td>0.554052</td>\n",
       "      <td>0.198390</td>\n",
       "      <td>0.506477</td>\n",
       "      <td>0.655763</td>\n",
       "      <td>0.820936</td>\n",
       "      <td>0.721388</td>\n",
       "      <td>0.038315</td>\n",
       "      <td>0.367709</td>\n",
       "      <td>0.585943</td>\n",
       "      <td>0.674899</td>\n",
       "    </tr>\n",
       "  </tbody>\n",
       "</table>\n",
       "<p>5 rows × 334 columns</p>\n",
       "</div>"
      ],
      "text/plain": [
       "        1         2         3         4         5         6         7    \\\n",
       "0  0.059310  0.704846  0.474677  0.823744  0.406723  0.136744  0.786014   \n",
       "1  0.085597  0.273390  0.149488  0.850481  0.666363  0.227788  0.775941   \n",
       "2  0.526608  0.757600  0.578163  0.884853  0.247438  0.579106  0.034835   \n",
       "3  0.866975  0.692157  0.716557  0.176255  0.004502  0.368356  0.246392   \n",
       "4  0.160225  0.987609  0.327269  0.179566  0.817327  0.970449  0.640579   \n",
       "\n",
       "        8         9         10   ...       325       326       327       328  \\\n",
       "0  0.067641  0.951896  0.650471  ...  0.046686  0.048350  0.626856  0.995522   \n",
       "1  0.914135  0.446905  0.847686  ...  0.788150  0.261703  0.568342  0.639972   \n",
       "2  0.315368  0.982547  0.409304  ...  0.363153  0.297265  0.525800  0.562109   \n",
       "3  0.354777  0.584615  0.336283  ...  0.363021  0.950678  0.179127  0.116873   \n",
       "4  0.732610  0.371758  0.932102  ...  0.554052  0.198390  0.506477  0.655763   \n",
       "\n",
       "        329       330       331       332       333       334  \n",
       "0  0.426065  0.785849  0.853107  0.033780  0.776703  0.137914  \n",
       "1  0.222072  0.814131  0.771688  0.926594  0.952058  0.820643  \n",
       "2  0.085815  0.041565  0.250508  0.211243  0.848862  0.403255  \n",
       "3  0.511963  0.188848  0.087661  0.548711  0.346143  0.717812  \n",
       "4  0.820936  0.721388  0.038315  0.367709  0.585943  0.674899  \n",
       "\n",
       "[5 rows x 334 columns]"
      ]
     },
     "execution_count": 281,
     "metadata": {},
     "output_type": "execute_result"
    }
   ],
   "source": [
    "newdf.T"
   ]
  },
  {
   "cell_type": "code",
   "execution_count": 282,
   "id": "8441b16b-4e1a-4ff6-900d-89195312ee6a",
   "metadata": {},
   "outputs": [
    {
     "data": {
      "text/html": [
       "<div>\n",
       "<style scoped>\n",
       "    .dataframe tbody tr th:only-of-type {\n",
       "        vertical-align: middle;\n",
       "    }\n",
       "\n",
       "    .dataframe tbody tr th {\n",
       "        vertical-align: top;\n",
       "    }\n",
       "\n",
       "    .dataframe thead th {\n",
       "        text-align: right;\n",
       "    }\n",
       "</style>\n",
       "<table border=\"1\" class=\"dataframe\">\n",
       "  <thead>\n",
       "    <tr style=\"text-align: right;\">\n",
       "      <th></th>\n",
       "      <th>4</th>\n",
       "      <th>3</th>\n",
       "      <th>2</th>\n",
       "      <th>1</th>\n",
       "      <th>0</th>\n",
       "    </tr>\n",
       "  </thead>\n",
       "  <tbody>\n",
       "    <tr>\n",
       "      <th>334</th>\n",
       "      <td>0.674899</td>\n",
       "      <td>0.717812</td>\n",
       "      <td>0.403255</td>\n",
       "      <td>0.820643</td>\n",
       "      <td>0.137914</td>\n",
       "    </tr>\n",
       "    <tr>\n",
       "      <th>333</th>\n",
       "      <td>0.585943</td>\n",
       "      <td>0.346143</td>\n",
       "      <td>0.848862</td>\n",
       "      <td>0.952058</td>\n",
       "      <td>0.776703</td>\n",
       "    </tr>\n",
       "    <tr>\n",
       "      <th>332</th>\n",
       "      <td>0.367709</td>\n",
       "      <td>0.548711</td>\n",
       "      <td>0.211243</td>\n",
       "      <td>0.926594</td>\n",
       "      <td>0.033780</td>\n",
       "    </tr>\n",
       "    <tr>\n",
       "      <th>331</th>\n",
       "      <td>0.038315</td>\n",
       "      <td>0.087661</td>\n",
       "      <td>0.250508</td>\n",
       "      <td>0.771688</td>\n",
       "      <td>0.853107</td>\n",
       "    </tr>\n",
       "    <tr>\n",
       "      <th>330</th>\n",
       "      <td>0.721388</td>\n",
       "      <td>0.188848</td>\n",
       "      <td>0.041565</td>\n",
       "      <td>0.814131</td>\n",
       "      <td>0.785849</td>\n",
       "    </tr>\n",
       "    <tr>\n",
       "      <th>...</th>\n",
       "      <td>...</td>\n",
       "      <td>...</td>\n",
       "      <td>...</td>\n",
       "      <td>...</td>\n",
       "      <td>...</td>\n",
       "    </tr>\n",
       "    <tr>\n",
       "      <th>5</th>\n",
       "      <td>0.817327</td>\n",
       "      <td>0.004502</td>\n",
       "      <td>0.247438</td>\n",
       "      <td>0.666363</td>\n",
       "      <td>0.406723</td>\n",
       "    </tr>\n",
       "    <tr>\n",
       "      <th>4</th>\n",
       "      <td>0.179566</td>\n",
       "      <td>0.176255</td>\n",
       "      <td>0.884853</td>\n",
       "      <td>0.850481</td>\n",
       "      <td>0.823744</td>\n",
       "    </tr>\n",
       "    <tr>\n",
       "      <th>3</th>\n",
       "      <td>0.327269</td>\n",
       "      <td>0.716557</td>\n",
       "      <td>0.578163</td>\n",
       "      <td>0.149488</td>\n",
       "      <td>0.474677</td>\n",
       "    </tr>\n",
       "    <tr>\n",
       "      <th>2</th>\n",
       "      <td>0.987609</td>\n",
       "      <td>0.692157</td>\n",
       "      <td>0.757600</td>\n",
       "      <td>0.273390</td>\n",
       "      <td>0.704846</td>\n",
       "    </tr>\n",
       "    <tr>\n",
       "      <th>1</th>\n",
       "      <td>0.160225</td>\n",
       "      <td>0.866975</td>\n",
       "      <td>0.526608</td>\n",
       "      <td>0.085597</td>\n",
       "      <td>0.059310</td>\n",
       "    </tr>\n",
       "  </tbody>\n",
       "</table>\n",
       "<p>334 rows × 5 columns</p>\n",
       "</div>"
      ],
      "text/plain": [
       "            4         3         2         1         0\n",
       "334  0.674899  0.717812  0.403255  0.820643  0.137914\n",
       "333  0.585943  0.346143  0.848862  0.952058  0.776703\n",
       "332  0.367709  0.548711  0.211243  0.926594  0.033780\n",
       "331  0.038315  0.087661  0.250508  0.771688  0.853107\n",
       "330  0.721388  0.188848  0.041565  0.814131  0.785849\n",
       "..        ...       ...       ...       ...       ...\n",
       "5    0.817327  0.004502  0.247438  0.666363  0.406723\n",
       "4    0.179566  0.176255  0.884853  0.850481  0.823744\n",
       "3    0.327269  0.716557  0.578163  0.149488  0.474677\n",
       "2    0.987609  0.692157  0.757600  0.273390  0.704846\n",
       "1    0.160225  0.866975  0.526608  0.085597  0.059310\n",
       "\n",
       "[334 rows x 5 columns]"
      ]
     },
     "execution_count": 282,
     "metadata": {},
     "output_type": "execute_result"
    }
   ],
   "source": [
    "newdf.sort_index(axis=1,ascending=False).sort_index(axis=0,ascending=False)"
   ]
  },
  {
   "cell_type": "code",
   "execution_count": null,
   "id": "09173d0c-9be6-4937-ba58-20ac4cf78c83",
   "metadata": {},
   "outputs": [],
   "source": []
  },
  {
   "cell_type": "code",
   "execution_count": 297,
   "id": "50975132-2b1d-4576-ae07-0d35ac0e0204",
   "metadata": {},
   "outputs": [
    {
     "data": {
      "text/html": [
       "<div>\n",
       "<style scoped>\n",
       "    .dataframe tbody tr th:only-of-type {\n",
       "        vertical-align: middle;\n",
       "    }\n",
       "\n",
       "    .dataframe tbody tr th {\n",
       "        vertical-align: top;\n",
       "    }\n",
       "\n",
       "    .dataframe thead th {\n",
       "        text-align: right;\n",
       "    }\n",
       "</style>\n",
       "<table border=\"1\" class=\"dataframe\">\n",
       "  <thead>\n",
       "    <tr style=\"text-align: right;\">\n",
       "      <th></th>\n",
       "      <th>A</th>\n",
       "      <th>B</th>\n",
       "      <th>C</th>\n",
       "      <th>D</th>\n",
       "      <th>E</th>\n",
       "    </tr>\n",
       "  </thead>\n",
       "  <tbody>\n",
       "    <tr>\n",
       "      <th>1</th>\n",
       "      <td>0.059310</td>\n",
       "      <td>0.085597</td>\n",
       "      <td>0.526608</td>\n",
       "      <td>0.866975</td>\n",
       "      <td>0.160225</td>\n",
       "    </tr>\n",
       "    <tr>\n",
       "      <th>2</th>\n",
       "      <td>0.704846</td>\n",
       "      <td>0.273390</td>\n",
       "      <td>0.757600</td>\n",
       "      <td>0.692157</td>\n",
       "      <td>0.987609</td>\n",
       "    </tr>\n",
       "    <tr>\n",
       "      <th>3</th>\n",
       "      <td>0.474677</td>\n",
       "      <td>0.149488</td>\n",
       "      <td>0.578163</td>\n",
       "      <td>0.716557</td>\n",
       "      <td>0.327269</td>\n",
       "    </tr>\n",
       "    <tr>\n",
       "      <th>4</th>\n",
       "      <td>0.823744</td>\n",
       "      <td>0.850481</td>\n",
       "      <td>0.884853</td>\n",
       "      <td>0.176255</td>\n",
       "      <td>0.179566</td>\n",
       "    </tr>\n",
       "    <tr>\n",
       "      <th>5</th>\n",
       "      <td>0.406723</td>\n",
       "      <td>0.666363</td>\n",
       "      <td>0.247438</td>\n",
       "      <td>0.004502</td>\n",
       "      <td>0.817327</td>\n",
       "    </tr>\n",
       "    <tr>\n",
       "      <th>...</th>\n",
       "      <td>...</td>\n",
       "      <td>...</td>\n",
       "      <td>...</td>\n",
       "      <td>...</td>\n",
       "      <td>...</td>\n",
       "    </tr>\n",
       "    <tr>\n",
       "      <th>330</th>\n",
       "      <td>0.785849</td>\n",
       "      <td>0.814131</td>\n",
       "      <td>0.041565</td>\n",
       "      <td>0.188848</td>\n",
       "      <td>0.721388</td>\n",
       "    </tr>\n",
       "    <tr>\n",
       "      <th>331</th>\n",
       "      <td>0.853107</td>\n",
       "      <td>0.771688</td>\n",
       "      <td>0.250508</td>\n",
       "      <td>0.087661</td>\n",
       "      <td>0.038315</td>\n",
       "    </tr>\n",
       "    <tr>\n",
       "      <th>332</th>\n",
       "      <td>0.033780</td>\n",
       "      <td>0.926594</td>\n",
       "      <td>0.211243</td>\n",
       "      <td>0.548711</td>\n",
       "      <td>0.367709</td>\n",
       "    </tr>\n",
       "    <tr>\n",
       "      <th>333</th>\n",
       "      <td>0.776703</td>\n",
       "      <td>0.952058</td>\n",
       "      <td>0.848862</td>\n",
       "      <td>0.346143</td>\n",
       "      <td>0.585943</td>\n",
       "    </tr>\n",
       "    <tr>\n",
       "      <th>334</th>\n",
       "      <td>0.137914</td>\n",
       "      <td>0.820643</td>\n",
       "      <td>0.403255</td>\n",
       "      <td>0.717812</td>\n",
       "      <td>0.674899</td>\n",
       "    </tr>\n",
       "  </tbody>\n",
       "</table>\n",
       "<p>334 rows × 5 columns</p>\n",
       "</div>"
      ],
      "text/plain": [
       "            A         B         C         D         E\n",
       "1    0.059310  0.085597  0.526608  0.866975  0.160225\n",
       "2    0.704846  0.273390  0.757600  0.692157  0.987609\n",
       "3    0.474677  0.149488  0.578163  0.716557  0.327269\n",
       "4    0.823744  0.850481  0.884853  0.176255  0.179566\n",
       "5    0.406723  0.666363  0.247438  0.004502  0.817327\n",
       "..        ...       ...       ...       ...       ...\n",
       "330  0.785849  0.814131  0.041565  0.188848  0.721388\n",
       "331  0.853107  0.771688  0.250508  0.087661  0.038315\n",
       "332  0.033780  0.926594  0.211243  0.548711  0.367709\n",
       "333  0.776703  0.952058  0.848862  0.346143  0.585943\n",
       "334  0.137914  0.820643  0.403255  0.717812  0.674899\n",
       "\n",
       "[334 rows x 5 columns]"
      ]
     },
     "execution_count": 297,
     "metadata": {},
     "output_type": "execute_result"
    }
   ],
   "source": [
    " newdf.columns=[\"A\",\"B\",\"C\",\"D\",\"E\"]\n",
    "# newdf=newdf.drop(\"F\",axis=1)\n",
    "newdf"
   ]
  },
  {
   "cell_type": "code",
   "execution_count": 298,
   "id": "ccf2b3b9-234b-491f-b73b-4d1b654092c7",
   "metadata": {},
   "outputs": [
    {
     "data": {
      "text/html": [
       "<div>\n",
       "<style scoped>\n",
       "    .dataframe tbody tr th:only-of-type {\n",
       "        vertical-align: middle;\n",
       "    }\n",
       "\n",
       "    .dataframe tbody tr th {\n",
       "        vertical-align: top;\n",
       "    }\n",
       "\n",
       "    .dataframe thead th {\n",
       "        text-align: right;\n",
       "    }\n",
       "</style>\n",
       "<table border=\"1\" class=\"dataframe\">\n",
       "  <thead>\n",
       "    <tr style=\"text-align: right;\">\n",
       "      <th></th>\n",
       "      <th>A</th>\n",
       "      <th>B</th>\n",
       "      <th>C</th>\n",
       "      <th>D</th>\n",
       "      <th>E</th>\n",
       "    </tr>\n",
       "  </thead>\n",
       "  <tbody>\n",
       "    <tr>\n",
       "      <th>1</th>\n",
       "      <td>654.000000</td>\n",
       "      <td>0.085597</td>\n",
       "      <td>0.526608</td>\n",
       "      <td>0.866975</td>\n",
       "      <td>0.160225</td>\n",
       "    </tr>\n",
       "    <tr>\n",
       "      <th>2</th>\n",
       "      <td>0.704846</td>\n",
       "      <td>0.273390</td>\n",
       "      <td>0.757600</td>\n",
       "      <td>0.692157</td>\n",
       "      <td>0.987609</td>\n",
       "    </tr>\n",
       "  </tbody>\n",
       "</table>\n",
       "</div>"
      ],
      "text/plain": [
       "            A         B         C         D         E\n",
       "1  654.000000  0.085597  0.526608  0.866975  0.160225\n",
       "2    0.704846  0.273390  0.757600  0.692157  0.987609"
      ]
     },
     "execution_count": 298,
     "metadata": {},
     "output_type": "execute_result"
    }
   ],
   "source": [
    "newdf.loc[1,\"A\"]=654\n",
    "newdf.head(2)"
   ]
  },
  {
   "cell_type": "code",
   "execution_count": 299,
   "id": "451d09b6-d695-43ce-beae-57dae069c3c3",
   "metadata": {},
   "outputs": [
    {
     "data": {
      "text/html": [
       "<div>\n",
       "<style scoped>\n",
       "    .dataframe tbody tr th:only-of-type {\n",
       "        vertical-align: middle;\n",
       "    }\n",
       "\n",
       "    .dataframe tbody tr th {\n",
       "        vertical-align: top;\n",
       "    }\n",
       "\n",
       "    .dataframe thead th {\n",
       "        text-align: right;\n",
       "    }\n",
       "</style>\n",
       "<table border=\"1\" class=\"dataframe\">\n",
       "  <thead>\n",
       "    <tr style=\"text-align: right;\">\n",
       "      <th></th>\n",
       "      <th>A</th>\n",
       "      <th>B</th>\n",
       "      <th>C</th>\n",
       "      <th>D</th>\n",
       "      <th>E</th>\n",
       "    </tr>\n",
       "  </thead>\n",
       "  <tbody>\n",
       "    <tr>\n",
       "      <th>1</th>\n",
       "      <td>654.000000</td>\n",
       "      <td>0.085597</td>\n",
       "      <td>0.526608</td>\n",
       "      <td>0.866975</td>\n",
       "      <td>0.160225</td>\n",
       "    </tr>\n",
       "    <tr>\n",
       "      <th>2</th>\n",
       "      <td>0.704846</td>\n",
       "      <td>0.273390</td>\n",
       "      <td>0.757600</td>\n",
       "      <td>0.692157</td>\n",
       "      <td>0.987609</td>\n",
       "    </tr>\n",
       "    <tr>\n",
       "      <th>3</th>\n",
       "      <td>0.474677</td>\n",
       "      <td>0.149488</td>\n",
       "      <td>0.578163</td>\n",
       "      <td>0.716557</td>\n",
       "      <td>0.327269</td>\n",
       "    </tr>\n",
       "    <tr>\n",
       "      <th>4</th>\n",
       "      <td>0.823744</td>\n",
       "      <td>0.850481</td>\n",
       "      <td>0.884853</td>\n",
       "      <td>0.176255</td>\n",
       "      <td>0.179566</td>\n",
       "    </tr>\n",
       "    <tr>\n",
       "      <th>5</th>\n",
       "      <td>0.406723</td>\n",
       "      <td>0.666363</td>\n",
       "      <td>0.247438</td>\n",
       "      <td>0.004502</td>\n",
       "      <td>0.817327</td>\n",
       "    </tr>\n",
       "    <tr>\n",
       "      <th>...</th>\n",
       "      <td>...</td>\n",
       "      <td>...</td>\n",
       "      <td>...</td>\n",
       "      <td>...</td>\n",
       "      <td>...</td>\n",
       "    </tr>\n",
       "    <tr>\n",
       "      <th>330</th>\n",
       "      <td>0.785849</td>\n",
       "      <td>0.814131</td>\n",
       "      <td>0.041565</td>\n",
       "      <td>0.188848</td>\n",
       "      <td>0.721388</td>\n",
       "    </tr>\n",
       "    <tr>\n",
       "      <th>331</th>\n",
       "      <td>0.853107</td>\n",
       "      <td>0.771688</td>\n",
       "      <td>0.250508</td>\n",
       "      <td>0.087661</td>\n",
       "      <td>0.038315</td>\n",
       "    </tr>\n",
       "    <tr>\n",
       "      <th>332</th>\n",
       "      <td>0.033780</td>\n",
       "      <td>0.926594</td>\n",
       "      <td>0.211243</td>\n",
       "      <td>0.548711</td>\n",
       "      <td>0.367709</td>\n",
       "    </tr>\n",
       "    <tr>\n",
       "      <th>333</th>\n",
       "      <td>0.776703</td>\n",
       "      <td>0.952058</td>\n",
       "      <td>0.848862</td>\n",
       "      <td>0.346143</td>\n",
       "      <td>0.585943</td>\n",
       "    </tr>\n",
       "    <tr>\n",
       "      <th>334</th>\n",
       "      <td>0.137914</td>\n",
       "      <td>0.820643</td>\n",
       "      <td>0.403255</td>\n",
       "      <td>0.717812</td>\n",
       "      <td>0.674899</td>\n",
       "    </tr>\n",
       "  </tbody>\n",
       "</table>\n",
       "<p>334 rows × 5 columns</p>\n",
       "</div>"
      ],
      "text/plain": [
       "              A         B         C         D         E\n",
       "1    654.000000  0.085597  0.526608  0.866975  0.160225\n",
       "2      0.704846  0.273390  0.757600  0.692157  0.987609\n",
       "3      0.474677  0.149488  0.578163  0.716557  0.327269\n",
       "4      0.823744  0.850481  0.884853  0.176255  0.179566\n",
       "5      0.406723  0.666363  0.247438  0.004502  0.817327\n",
       "..          ...       ...       ...       ...       ...\n",
       "330    0.785849  0.814131  0.041565  0.188848  0.721388\n",
       "331    0.853107  0.771688  0.250508  0.087661  0.038315\n",
       "332    0.033780  0.926594  0.211243  0.548711  0.367709\n",
       "333    0.776703  0.952058  0.848862  0.346143  0.585943\n",
       "334    0.137914  0.820643  0.403255  0.717812  0.674899\n",
       "\n",
       "[334 rows x 5 columns]"
      ]
     },
     "execution_count": 299,
     "metadata": {},
     "output_type": "execute_result"
    }
   ],
   "source": [
    "newdf"
   ]
  },
  {
   "cell_type": "code",
   "execution_count": 300,
   "id": "89672874-512c-4d02-99ff-065d4b3de073",
   "metadata": {},
   "outputs": [
    {
     "data": {
      "text/html": [
       "<div>\n",
       "<style scoped>\n",
       "    .dataframe tbody tr th:only-of-type {\n",
       "        vertical-align: middle;\n",
       "    }\n",
       "\n",
       "    .dataframe tbody tr th {\n",
       "        vertical-align: top;\n",
       "    }\n",
       "\n",
       "    .dataframe thead th {\n",
       "        text-align: right;\n",
       "    }\n",
       "</style>\n",
       "<table border=\"1\" class=\"dataframe\">\n",
       "  <thead>\n",
       "    <tr style=\"text-align: right;\">\n",
       "      <th></th>\n",
       "      <th>A</th>\n",
       "      <th>B</th>\n",
       "      <th>C</th>\n",
       "      <th>D</th>\n",
       "      <th>E</th>\n",
       "    </tr>\n",
       "  </thead>\n",
       "  <tbody>\n",
       "    <tr>\n",
       "      <th>1</th>\n",
       "      <td>654.000000</td>\n",
       "      <td>0.085597</td>\n",
       "      <td>0.526608</td>\n",
       "      <td>0.866975</td>\n",
       "      <td>0.160225</td>\n",
       "    </tr>\n",
       "    <tr>\n",
       "      <th>2</th>\n",
       "      <td>0.704846</td>\n",
       "      <td>0.273390</td>\n",
       "      <td>0.757600</td>\n",
       "      <td>0.692157</td>\n",
       "      <td>0.987609</td>\n",
       "    </tr>\n",
       "    <tr>\n",
       "      <th>3</th>\n",
       "      <td>0.474677</td>\n",
       "      <td>0.149488</td>\n",
       "      <td>0.578163</td>\n",
       "      <td>0.716557</td>\n",
       "      <td>0.327269</td>\n",
       "    </tr>\n",
       "  </tbody>\n",
       "</table>\n",
       "</div>"
      ],
      "text/plain": [
       "            A         B         C         D         E\n",
       "1  654.000000  0.085597  0.526608  0.866975  0.160225\n",
       "2    0.704846  0.273390  0.757600  0.692157  0.987609\n",
       "3    0.474677  0.149488  0.578163  0.716557  0.327269"
      ]
     },
     "execution_count": 300,
     "metadata": {},
     "output_type": "execute_result"
    }
   ],
   "source": [
    "newdf.loc[[1,2,3]]"
   ]
  },
  {
   "cell_type": "code",
   "execution_count": 304,
   "id": "e579194a-26b9-452f-9e17-8665dc1c5a58",
   "metadata": {},
   "outputs": [
    {
     "data": {
      "text/html": [
       "<div>\n",
       "<style scoped>\n",
       "    .dataframe tbody tr th:only-of-type {\n",
       "        vertical-align: middle;\n",
       "    }\n",
       "\n",
       "    .dataframe tbody tr th {\n",
       "        vertical-align: top;\n",
       "    }\n",
       "\n",
       "    .dataframe thead th {\n",
       "        text-align: right;\n",
       "    }\n",
       "</style>\n",
       "<table border=\"1\" class=\"dataframe\">\n",
       "  <thead>\n",
       "    <tr style=\"text-align: right;\">\n",
       "      <th></th>\n",
       "      <th>A</th>\n",
       "      <th>B</th>\n",
       "      <th>C</th>\n",
       "      <th>D</th>\n",
       "      <th>E</th>\n",
       "    </tr>\n",
       "  </thead>\n",
       "  <tbody>\n",
       "    <tr>\n",
       "      <th>35</th>\n",
       "      <td>0.290025</td>\n",
       "      <td>0.639107</td>\n",
       "      <td>0.577230</td>\n",
       "      <td>0.067239</td>\n",
       "      <td>0.691781</td>\n",
       "    </tr>\n",
       "    <tr>\n",
       "      <th>72</th>\n",
       "      <td>0.282639</td>\n",
       "      <td>0.328953</td>\n",
       "      <td>0.763093</td>\n",
       "      <td>0.633614</td>\n",
       "      <td>0.221357</td>\n",
       "    </tr>\n",
       "    <tr>\n",
       "      <th>151</th>\n",
       "      <td>0.261732</td>\n",
       "      <td>0.536133</td>\n",
       "      <td>0.929875</td>\n",
       "      <td>0.062428</td>\n",
       "      <td>0.703657</td>\n",
       "    </tr>\n",
       "    <tr>\n",
       "      <th>212</th>\n",
       "      <td>0.297336</td>\n",
       "      <td>0.785785</td>\n",
       "      <td>0.803155</td>\n",
       "      <td>0.046315</td>\n",
       "      <td>0.274754</td>\n",
       "    </tr>\n",
       "    <tr>\n",
       "      <th>266</th>\n",
       "      <td>0.285925</td>\n",
       "      <td>0.238745</td>\n",
       "      <td>0.365367</td>\n",
       "      <td>0.229254</td>\n",
       "      <td>0.194759</td>\n",
       "    </tr>\n",
       "    <tr>\n",
       "      <th>286</th>\n",
       "      <td>0.289008</td>\n",
       "      <td>0.231490</td>\n",
       "      <td>0.897841</td>\n",
       "      <td>0.711679</td>\n",
       "      <td>0.331920</td>\n",
       "    </tr>\n",
       "    <tr>\n",
       "      <th>290</th>\n",
       "      <td>0.259502</td>\n",
       "      <td>0.051936</td>\n",
       "      <td>0.222065</td>\n",
       "      <td>0.329164</td>\n",
       "      <td>0.967977</td>\n",
       "    </tr>\n",
       "    <tr>\n",
       "      <th>300</th>\n",
       "      <td>0.298888</td>\n",
       "      <td>0.046973</td>\n",
       "      <td>0.152937</td>\n",
       "      <td>0.506529</td>\n",
       "      <td>0.843929</td>\n",
       "    </tr>\n",
       "    <tr>\n",
       "      <th>314</th>\n",
       "      <td>0.290768</td>\n",
       "      <td>0.743975</td>\n",
       "      <td>0.349041</td>\n",
       "      <td>0.186369</td>\n",
       "      <td>0.991513</td>\n",
       "    </tr>\n",
       "    <tr>\n",
       "      <th>317</th>\n",
       "      <td>0.272412</td>\n",
       "      <td>0.282690</td>\n",
       "      <td>0.829738</td>\n",
       "      <td>0.996121</td>\n",
       "      <td>0.239908</td>\n",
       "    </tr>\n",
       "  </tbody>\n",
       "</table>\n",
       "</div>"
      ],
      "text/plain": [
       "            A         B         C         D         E\n",
       "35   0.290025  0.639107  0.577230  0.067239  0.691781\n",
       "72   0.282639  0.328953  0.763093  0.633614  0.221357\n",
       "151  0.261732  0.536133  0.929875  0.062428  0.703657\n",
       "212  0.297336  0.785785  0.803155  0.046315  0.274754\n",
       "266  0.285925  0.238745  0.365367  0.229254  0.194759\n",
       "286  0.289008  0.231490  0.897841  0.711679  0.331920\n",
       "290  0.259502  0.051936  0.222065  0.329164  0.967977\n",
       "300  0.298888  0.046973  0.152937  0.506529  0.843929\n",
       "314  0.290768  0.743975  0.349041  0.186369  0.991513\n",
       "317  0.272412  0.282690  0.829738  0.996121  0.239908"
      ]
     },
     "execution_count": 304,
     "metadata": {},
     "output_type": "execute_result"
    }
   ],
   "source": [
    "newdf.loc[(newdf['A']<0.3)&(newdf['A']>0.25)]"
   ]
  },
  {
   "cell_type": "code",
   "execution_count": 288,
   "id": "5fbf5e9a-72ea-4c51-b4e7-8b848b65ae6c",
   "metadata": {},
   "outputs": [
    {
     "data": {
      "text/plain": [
       "0    float64\n",
       "1    float64\n",
       "2    float64\n",
       "3    float64\n",
       "4    float64\n",
       "A    float64\n",
       "dtype: object"
      ]
     },
     "execution_count": 288,
     "metadata": {},
     "output_type": "execute_result"
    }
   ],
   "source": [
    "newdf.dtypes"
   ]
  },
  {
   "cell_type": "code",
   "execution_count": 310,
   "id": "69802a45-1fad-4e95-9c35-13d398d63d96",
   "metadata": {},
   "outputs": [
    {
     "data": {
      "text/plain": [
       "0.1602250720128009"
      ]
     },
     "execution_count": 310,
     "metadata": {},
     "output_type": "execute_result"
    }
   ],
   "source": [
    "newdf.iloc[0,4]"
   ]
  },
  {
   "cell_type": "code",
   "execution_count": 311,
   "id": "f8869c8a-107d-4882-a936-5376e7ba021e",
   "metadata": {},
   "outputs": [
    {
     "data": {
      "text/html": [
       "<div>\n",
       "<style scoped>\n",
       "    .dataframe tbody tr th:only-of-type {\n",
       "        vertical-align: middle;\n",
       "    }\n",
       "\n",
       "    .dataframe tbody tr th {\n",
       "        vertical-align: top;\n",
       "    }\n",
       "\n",
       "    .dataframe thead th {\n",
       "        text-align: right;\n",
       "    }\n",
       "</style>\n",
       "<table border=\"1\" class=\"dataframe\">\n",
       "  <thead>\n",
       "    <tr style=\"text-align: right;\">\n",
       "      <th></th>\n",
       "      <th>A</th>\n",
       "      <th>B</th>\n",
       "      <th>C</th>\n",
       "      <th>D</th>\n",
       "      <th>E</th>\n",
       "    </tr>\n",
       "  </thead>\n",
       "  <tbody>\n",
       "    <tr>\n",
       "      <th>1</th>\n",
       "      <td>654.000000</td>\n",
       "      <td>0.085597</td>\n",
       "      <td>0.526608</td>\n",
       "      <td>0.866975</td>\n",
       "      <td>0.160225</td>\n",
       "    </tr>\n",
       "    <tr>\n",
       "      <th>2</th>\n",
       "      <td>0.704846</td>\n",
       "      <td>0.273390</td>\n",
       "      <td>0.757600</td>\n",
       "      <td>0.692157</td>\n",
       "      <td>0.987609</td>\n",
       "    </tr>\n",
       "    <tr>\n",
       "      <th>3</th>\n",
       "      <td>0.474677</td>\n",
       "      <td>0.149488</td>\n",
       "      <td>0.578163</td>\n",
       "      <td>0.716557</td>\n",
       "      <td>0.327269</td>\n",
       "    </tr>\n",
       "    <tr>\n",
       "      <th>4</th>\n",
       "      <td>0.823744</td>\n",
       "      <td>0.850481</td>\n",
       "      <td>0.884853</td>\n",
       "      <td>0.176255</td>\n",
       "      <td>0.179566</td>\n",
       "    </tr>\n",
       "    <tr>\n",
       "      <th>5</th>\n",
       "      <td>0.406723</td>\n",
       "      <td>0.666363</td>\n",
       "      <td>0.247438</td>\n",
       "      <td>0.004502</td>\n",
       "      <td>0.817327</td>\n",
       "    </tr>\n",
       "    <tr>\n",
       "      <th>...</th>\n",
       "      <td>...</td>\n",
       "      <td>...</td>\n",
       "      <td>...</td>\n",
       "      <td>...</td>\n",
       "      <td>...</td>\n",
       "    </tr>\n",
       "    <tr>\n",
       "      <th>330</th>\n",
       "      <td>0.785849</td>\n",
       "      <td>0.814131</td>\n",
       "      <td>0.041565</td>\n",
       "      <td>0.188848</td>\n",
       "      <td>0.721388</td>\n",
       "    </tr>\n",
       "    <tr>\n",
       "      <th>331</th>\n",
       "      <td>0.853107</td>\n",
       "      <td>0.771688</td>\n",
       "      <td>0.250508</td>\n",
       "      <td>0.087661</td>\n",
       "      <td>0.038315</td>\n",
       "    </tr>\n",
       "    <tr>\n",
       "      <th>332</th>\n",
       "      <td>0.033780</td>\n",
       "      <td>0.926594</td>\n",
       "      <td>0.211243</td>\n",
       "      <td>0.548711</td>\n",
       "      <td>0.367709</td>\n",
       "    </tr>\n",
       "    <tr>\n",
       "      <th>333</th>\n",
       "      <td>0.776703</td>\n",
       "      <td>0.952058</td>\n",
       "      <td>0.848862</td>\n",
       "      <td>0.346143</td>\n",
       "      <td>0.585943</td>\n",
       "    </tr>\n",
       "    <tr>\n",
       "      <th>334</th>\n",
       "      <td>0.137914</td>\n",
       "      <td>0.820643</td>\n",
       "      <td>0.403255</td>\n",
       "      <td>0.717812</td>\n",
       "      <td>0.674899</td>\n",
       "    </tr>\n",
       "  </tbody>\n",
       "</table>\n",
       "<p>334 rows × 5 columns</p>\n",
       "</div>"
      ],
      "text/plain": [
       "              A         B         C         D         E\n",
       "1    654.000000  0.085597  0.526608  0.866975  0.160225\n",
       "2      0.704846  0.273390  0.757600  0.692157  0.987609\n",
       "3      0.474677  0.149488  0.578163  0.716557  0.327269\n",
       "4      0.823744  0.850481  0.884853  0.176255  0.179566\n",
       "5      0.406723  0.666363  0.247438  0.004502  0.817327\n",
       "..          ...       ...       ...       ...       ...\n",
       "330    0.785849  0.814131  0.041565  0.188848  0.721388\n",
       "331    0.853107  0.771688  0.250508  0.087661  0.038315\n",
       "332    0.033780  0.926594  0.211243  0.548711  0.367709\n",
       "333    0.776703  0.952058  0.848862  0.346143  0.585943\n",
       "334    0.137914  0.820643  0.403255  0.717812  0.674899\n",
       "\n",
       "[334 rows x 5 columns]"
      ]
     },
     "execution_count": 311,
     "metadata": {},
     "output_type": "execute_result"
    }
   ],
   "source": [
    "newdf"
   ]
  },
  {
   "cell_type": "code",
   "execution_count": 318,
   "id": "cd9cb748-5a60-4a8c-8e80-839144cecea7",
   "metadata": {},
   "outputs": [
    {
     "data": {
      "text/html": [
       "<div>\n",
       "<style scoped>\n",
       "    .dataframe tbody tr th:only-of-type {\n",
       "        vertical-align: middle;\n",
       "    }\n",
       "\n",
       "    .dataframe tbody tr th {\n",
       "        vertical-align: top;\n",
       "    }\n",
       "\n",
       "    .dataframe thead th {\n",
       "        text-align: right;\n",
       "    }\n",
       "</style>\n",
       "<table border=\"1\" class=\"dataframe\">\n",
       "  <thead>\n",
       "    <tr style=\"text-align: right;\">\n",
       "      <th></th>\n",
       "      <th>A</th>\n",
       "      <th>B</th>\n",
       "      <th>C</th>\n",
       "      <th>D</th>\n",
       "      <th>E</th>\n",
       "    </tr>\n",
       "  </thead>\n",
       "  <tbody>\n",
       "    <tr>\n",
       "      <th>1</th>\n",
       "      <td>654.000000</td>\n",
       "      <td>0.085597</td>\n",
       "      <td>0.526608</td>\n",
       "      <td>0.866975</td>\n",
       "      <td>0.160225</td>\n",
       "    </tr>\n",
       "    <tr>\n",
       "      <th>2</th>\n",
       "      <td>0.704846</td>\n",
       "      <td>0.273390</td>\n",
       "      <td>0.757600</td>\n",
       "      <td>0.692157</td>\n",
       "      <td>0.987609</td>\n",
       "    </tr>\n",
       "    <tr>\n",
       "      <th>4</th>\n",
       "      <td>0.823744</td>\n",
       "      <td>0.850481</td>\n",
       "      <td>0.884853</td>\n",
       "      <td>0.176255</td>\n",
       "      <td>0.179566</td>\n",
       "    </tr>\n",
       "    <tr>\n",
       "      <th>5</th>\n",
       "      <td>0.406723</td>\n",
       "      <td>0.666363</td>\n",
       "      <td>0.247438</td>\n",
       "      <td>0.004502</td>\n",
       "      <td>0.817327</td>\n",
       "    </tr>\n",
       "    <tr>\n",
       "      <th>6</th>\n",
       "      <td>0.136744</td>\n",
       "      <td>0.227788</td>\n",
       "      <td>0.579106</td>\n",
       "      <td>0.368356</td>\n",
       "      <td>0.970449</td>\n",
       "    </tr>\n",
       "    <tr>\n",
       "      <th>7</th>\n",
       "      <td>0.786014</td>\n",
       "      <td>0.775941</td>\n",
       "      <td>0.034835</td>\n",
       "      <td>0.246392</td>\n",
       "      <td>0.640579</td>\n",
       "    </tr>\n",
       "    <tr>\n",
       "      <th>8</th>\n",
       "      <td>0.067641</td>\n",
       "      <td>0.914135</td>\n",
       "      <td>0.315368</td>\n",
       "      <td>0.354777</td>\n",
       "      <td>0.732610</td>\n",
       "    </tr>\n",
       "    <tr>\n",
       "      <th>9</th>\n",
       "      <td>0.951896</td>\n",
       "      <td>0.446905</td>\n",
       "      <td>0.982547</td>\n",
       "      <td>0.584615</td>\n",
       "      <td>0.371758</td>\n",
       "    </tr>\n",
       "    <tr>\n",
       "      <th>10</th>\n",
       "      <td>0.650471</td>\n",
       "      <td>0.847686</td>\n",
       "      <td>0.409304</td>\n",
       "      <td>0.336283</td>\n",
       "      <td>0.932102</td>\n",
       "    </tr>\n",
       "    <tr>\n",
       "      <th>11</th>\n",
       "      <td>0.331210</td>\n",
       "      <td>0.110739</td>\n",
       "      <td>0.654302</td>\n",
       "      <td>0.737724</td>\n",
       "      <td>0.673374</td>\n",
       "    </tr>\n",
       "  </tbody>\n",
       "</table>\n",
       "</div>"
      ],
      "text/plain": [
       "             A         B         C         D         E\n",
       "1   654.000000  0.085597  0.526608  0.866975  0.160225\n",
       "2     0.704846  0.273390  0.757600  0.692157  0.987609\n",
       "4     0.823744  0.850481  0.884853  0.176255  0.179566\n",
       "5     0.406723  0.666363  0.247438  0.004502  0.817327\n",
       "6     0.136744  0.227788  0.579106  0.368356  0.970449\n",
       "7     0.786014  0.775941  0.034835  0.246392  0.640579\n",
       "8     0.067641  0.914135  0.315368  0.354777  0.732610\n",
       "9     0.951896  0.446905  0.982547  0.584615  0.371758\n",
       "10    0.650471  0.847686  0.409304  0.336283  0.932102\n",
       "11    0.331210  0.110739  0.654302  0.737724  0.673374"
      ]
     },
     "execution_count": 318,
     "metadata": {},
     "output_type": "execute_result"
    }
   ],
   "source": [
    "#newdf.drop([3],inplace=True)\n",
    "newdf.head(10)"
   ]
  },
  {
   "cell_type": "code",
   "execution_count": 321,
   "id": "08bfa46b-0e8c-4f69-a54f-bfd3a47b8298",
   "metadata": {},
   "outputs": [],
   "source": [
    "newdf.reset_index(drop=True,inplace=True)"
   ]
  },
  {
   "cell_type": "code",
   "execution_count": 322,
   "id": "49c631e0-53ed-4d39-8754-d62b03f902d1",
   "metadata": {},
   "outputs": [
    {
     "data": {
      "text/html": [
       "<div>\n",
       "<style scoped>\n",
       "    .dataframe tbody tr th:only-of-type {\n",
       "        vertical-align: middle;\n",
       "    }\n",
       "\n",
       "    .dataframe tbody tr th {\n",
       "        vertical-align: top;\n",
       "    }\n",
       "\n",
       "    .dataframe thead th {\n",
       "        text-align: right;\n",
       "    }\n",
       "</style>\n",
       "<table border=\"1\" class=\"dataframe\">\n",
       "  <thead>\n",
       "    <tr style=\"text-align: right;\">\n",
       "      <th></th>\n",
       "      <th>A</th>\n",
       "      <th>B</th>\n",
       "      <th>C</th>\n",
       "      <th>D</th>\n",
       "      <th>E</th>\n",
       "    </tr>\n",
       "  </thead>\n",
       "  <tbody>\n",
       "    <tr>\n",
       "      <th>0</th>\n",
       "      <td>654.000000</td>\n",
       "      <td>0.085597</td>\n",
       "      <td>0.526608</td>\n",
       "      <td>0.866975</td>\n",
       "      <td>0.160225</td>\n",
       "    </tr>\n",
       "    <tr>\n",
       "      <th>1</th>\n",
       "      <td>0.704846</td>\n",
       "      <td>0.273390</td>\n",
       "      <td>0.757600</td>\n",
       "      <td>0.692157</td>\n",
       "      <td>0.987609</td>\n",
       "    </tr>\n",
       "    <tr>\n",
       "      <th>2</th>\n",
       "      <td>0.823744</td>\n",
       "      <td>0.850481</td>\n",
       "      <td>0.884853</td>\n",
       "      <td>0.176255</td>\n",
       "      <td>0.179566</td>\n",
       "    </tr>\n",
       "    <tr>\n",
       "      <th>3</th>\n",
       "      <td>0.406723</td>\n",
       "      <td>0.666363</td>\n",
       "      <td>0.247438</td>\n",
       "      <td>0.004502</td>\n",
       "      <td>0.817327</td>\n",
       "    </tr>\n",
       "    <tr>\n",
       "      <th>4</th>\n",
       "      <td>0.136744</td>\n",
       "      <td>0.227788</td>\n",
       "      <td>0.579106</td>\n",
       "      <td>0.368356</td>\n",
       "      <td>0.970449</td>\n",
       "    </tr>\n",
       "  </tbody>\n",
       "</table>\n",
       "</div>"
      ],
      "text/plain": [
       "            A         B         C         D         E\n",
       "0  654.000000  0.085597  0.526608  0.866975  0.160225\n",
       "1    0.704846  0.273390  0.757600  0.692157  0.987609\n",
       "2    0.823744  0.850481  0.884853  0.176255  0.179566\n",
       "3    0.406723  0.666363  0.247438  0.004502  0.817327\n",
       "4    0.136744  0.227788  0.579106  0.368356  0.970449"
      ]
     },
     "execution_count": 322,
     "metadata": {},
     "output_type": "execute_result"
    }
   ],
   "source": [
    "newdf.head(5)"
   ]
  },
  {
   "cell_type": "code",
   "execution_count": 329,
   "id": "230521c6-2c28-422d-9a81-b879abbbf6e6",
   "metadata": {},
   "outputs": [
    {
     "data": {
      "text/html": [
       "<div>\n",
       "<style scoped>\n",
       "    .dataframe tbody tr th:only-of-type {\n",
       "        vertical-align: middle;\n",
       "    }\n",
       "\n",
       "    .dataframe tbody tr th {\n",
       "        vertical-align: top;\n",
       "    }\n",
       "\n",
       "    .dataframe thead th {\n",
       "        text-align: right;\n",
       "    }\n",
       "</style>\n",
       "<table border=\"1\" class=\"dataframe\">\n",
       "  <thead>\n",
       "    <tr style=\"text-align: right;\">\n",
       "      <th></th>\n",
       "      <th>A</th>\n",
       "      <th>B</th>\n",
       "      <th>C</th>\n",
       "      <th>D</th>\n",
       "      <th>E</th>\n",
       "    </tr>\n",
       "  </thead>\n",
       "  <tbody>\n",
       "    <tr>\n",
       "      <th>0</th>\n",
       "      <td>654.000000</td>\n",
       "      <td>56</td>\n",
       "      <td>0.526608</td>\n",
       "      <td>0.866975</td>\n",
       "      <td>0.160225</td>\n",
       "    </tr>\n",
       "    <tr>\n",
       "      <th>1</th>\n",
       "      <td>0.704846</td>\n",
       "      <td>56</td>\n",
       "      <td>0.757600</td>\n",
       "      <td>0.692157</td>\n",
       "      <td>0.987609</td>\n",
       "    </tr>\n",
       "    <tr>\n",
       "      <th>2</th>\n",
       "      <td>0.823744</td>\n",
       "      <td>56</td>\n",
       "      <td>0.884853</td>\n",
       "      <td>0.176255</td>\n",
       "      <td>0.179566</td>\n",
       "    </tr>\n",
       "    <tr>\n",
       "      <th>3</th>\n",
       "      <td>0.406723</td>\n",
       "      <td>56</td>\n",
       "      <td>0.247438</td>\n",
       "      <td>0.004502</td>\n",
       "      <td>0.817327</td>\n",
       "    </tr>\n",
       "    <tr>\n",
       "      <th>4</th>\n",
       "      <td>0.136744</td>\n",
       "      <td>56</td>\n",
       "      <td>0.579106</td>\n",
       "      <td>0.368356</td>\n",
       "      <td>0.970449</td>\n",
       "    </tr>\n",
       "  </tbody>\n",
       "</table>\n",
       "</div>"
      ],
      "text/plain": [
       "            A   B         C         D         E\n",
       "0  654.000000  56  0.526608  0.866975  0.160225\n",
       "1    0.704846  56  0.757600  0.692157  0.987609\n",
       "2    0.823744  56  0.884853  0.176255  0.179566\n",
       "3    0.406723  56  0.247438  0.004502  0.817327\n",
       "4    0.136744  56  0.579106  0.368356  0.970449"
      ]
     },
     "execution_count": 329,
     "metadata": {},
     "output_type": "execute_result"
    }
   ],
   "source": [
    "newdf.loc[:,['B']]=56\n",
    "newdf.head(5)"
   ]
  },
  {
   "cell_type": "code",
   "execution_count": 326,
   "id": "1081cdd2-d707-4e02-b08c-60ad74fb7bc9",
   "metadata": {},
   "outputs": [
    {
     "data": {
      "text/plain": [
       "0      True\n",
       "1      True\n",
       "2      True\n",
       "3      True\n",
       "4      True\n",
       "       ... \n",
       "328    True\n",
       "329    True\n",
       "330    True\n",
       "331    True\n",
       "332    True\n",
       "Name: B, Length: 333, dtype: bool"
      ]
     },
     "execution_count": 326,
     "metadata": {},
     "output_type": "execute_result"
    }
   ],
   "source": [
    "newdf['B'].isnull()"
   ]
  },
  {
   "cell_type": "code",
   "execution_count": 359,
   "id": "df53bb2b-7a50-4beb-9b5e-0bd04870fd14",
   "metadata": {},
   "outputs": [
    {
     "name": "stdout",
     "output_type": "stream",
     "text": [
      "              A   B         C         D         E     F\n",
      "0    654.000000  56  0.526608  0.866975  0.160225  None\n",
      "1      0.704846  56  0.757600  0.692157  0.987609  None\n",
      "2      0.823744  56  0.884853       NaN  0.179566  None\n",
      "3      0.406723  56  0.247438  0.004502  0.817327  None\n",
      "4      0.136744  56  0.579106  0.368356  0.970449  None\n",
      "..          ...  ..       ...       ...       ...   ...\n",
      "328    0.785849  56  0.041565  0.188848  0.721388  None\n",
      "329    0.853107  56  0.250508  0.087661  0.038315  None\n",
      "330    0.033780  56  0.211243  0.548711  0.367709  None\n",
      "331    0.776703  56  0.848862  0.346143  0.585943  None\n",
      "332    0.137914  56  0.403255  0.717812  0.674899  None\n",
      "\n",
      "[333 rows x 6 columns]\n"
     ]
    },
    {
     "name": "stderr",
     "output_type": "stream",
     "text": [
      "/tmp/ipykernel_2501/3319864225.py:2: FutureWarning: ChainedAssignmentError: behaviour will change in pandas 3.0!\n",
      "You are setting values through chained assignment. Currently this works in certain cases, but when using Copy-on-Write (which will become the default behaviour in pandas 3.0) this will never work to update the original DataFrame or Series, because the intermediate object on which we are setting values will behave as a copy.\n",
      "A typical example is when you are setting values in a column of a DataFrame, like:\n",
      "\n",
      "df[\"col\"][row_indexer] = value\n",
      "\n",
      "Use `df.loc[row_indexer, \"col\"] = values` instead, to perform the assignment in a single step and ensure this keeps updating the original `df`.\n",
      "\n",
      "See the caveats in the documentation: https://pandas.pydata.org/pandas-docs/stable/user_guide/indexing.html#returning-a-view-versus-a-copy\n",
      "\n",
      "  newdf[\"D\"][2]=None\n",
      "/tmp/ipykernel_2501/3319864225.py:2: SettingWithCopyWarning: \n",
      "A value is trying to be set on a copy of a slice from a DataFrame\n",
      "\n",
      "See the caveats in the documentation: https://pandas.pydata.org/pandas-docs/stable/user_guide/indexing.html#returning-a-view-versus-a-copy\n",
      "  newdf[\"D\"][2]=None\n"
     ]
    },
    {
     "data": {
      "text/html": [
       "<div>\n",
       "<style scoped>\n",
       "    .dataframe tbody tr th:only-of-type {\n",
       "        vertical-align: middle;\n",
       "    }\n",
       "\n",
       "    .dataframe tbody tr th {\n",
       "        vertical-align: top;\n",
       "    }\n",
       "\n",
       "    .dataframe thead th {\n",
       "        text-align: right;\n",
       "    }\n",
       "</style>\n",
       "<table border=\"1\" class=\"dataframe\">\n",
       "  <thead>\n",
       "    <tr style=\"text-align: right;\">\n",
       "      <th></th>\n",
       "      <th>A</th>\n",
       "      <th>B</th>\n",
       "      <th>C</th>\n",
       "      <th>D</th>\n",
       "      <th>E</th>\n",
       "    </tr>\n",
       "  </thead>\n",
       "  <tbody>\n",
       "    <tr>\n",
       "      <th>0</th>\n",
       "      <td>654.000000</td>\n",
       "      <td>56</td>\n",
       "      <td>0.526608</td>\n",
       "      <td>0.866975</td>\n",
       "      <td>0.160225</td>\n",
       "    </tr>\n",
       "    <tr>\n",
       "      <th>1</th>\n",
       "      <td>0.704846</td>\n",
       "      <td>56</td>\n",
       "      <td>0.757600</td>\n",
       "      <td>0.692157</td>\n",
       "      <td>0.987609</td>\n",
       "    </tr>\n",
       "    <tr>\n",
       "      <th>2</th>\n",
       "      <td>0.823744</td>\n",
       "      <td>56</td>\n",
       "      <td>0.884853</td>\n",
       "      <td>NaN</td>\n",
       "      <td>0.179566</td>\n",
       "    </tr>\n",
       "    <tr>\n",
       "      <th>3</th>\n",
       "      <td>0.406723</td>\n",
       "      <td>56</td>\n",
       "      <td>0.247438</td>\n",
       "      <td>0.004502</td>\n",
       "      <td>0.817327</td>\n",
       "    </tr>\n",
       "    <tr>\n",
       "      <th>4</th>\n",
       "      <td>0.136744</td>\n",
       "      <td>56</td>\n",
       "      <td>0.579106</td>\n",
       "      <td>0.368356</td>\n",
       "      <td>0.970449</td>\n",
       "    </tr>\n",
       "  </tbody>\n",
       "</table>\n",
       "</div>"
      ],
      "text/plain": [
       "            A   B         C         D         E\n",
       "0  654.000000  56  0.526608  0.866975  0.160225\n",
       "1    0.704846  56  0.757600  0.692157  0.987609\n",
       "2    0.823744  56  0.884853       NaN  0.179566\n",
       "3    0.406723  56  0.247438  0.004502  0.817327\n",
       "4    0.136744  56  0.579106  0.368356  0.970449"
      ]
     },
     "execution_count": 359,
     "metadata": {},
     "output_type": "execute_result"
    }
   ],
   "source": [
    "\n",
    "# newdf.drop((5,\"D\"),axis=1,inplace=True)\n",
    "newdf[\"D\"][2]=None\n",
    "newdf[\"F\"]=None\n",
    "print(newdf)\n",
    "newdf.dropna(how=\"all\",axis=1).head()\n",
    "# newdf.head()"
   ]
  },
  {
   "cell_type": "code",
   "execution_count": null,
   "id": "6c304779-5def-4b2a-9d3b-8ececd66680e",
   "metadata": {},
   "outputs": [],
   "source": []
  },
  {
   "cell_type": "code",
   "execution_count": null,
   "id": "a278d81c-e6c0-422f-bda0-5667cf07a8b5",
   "metadata": {},
   "outputs": [],
   "source": []
  },
  {
   "cell_type": "code",
   "execution_count": null,
   "id": "60fb3745-9cd0-4ef3-8dd6-a9a8e804f4ab",
   "metadata": {},
   "outputs": [],
   "source": []
  },
  {
   "cell_type": "code",
   "execution_count": null,
   "id": "419df813-0181-4e3c-b90c-611c55c56f66",
   "metadata": {},
   "outputs": [],
   "source": []
  },
  {
   "cell_type": "code",
   "execution_count": null,
   "id": "195797ae-92c3-4d50-ae73-fdffe95138bf",
   "metadata": {},
   "outputs": [],
   "source": []
  },
  {
   "cell_type": "code",
   "execution_count": null,
   "id": "28d0672b-9824-4829-bc75-9eb3800b0d97",
   "metadata": {},
   "outputs": [],
   "source": []
  },
  {
   "cell_type": "code",
   "execution_count": null,
   "id": "d7956642-7de0-4b59-b8cb-9d91a9abf461",
   "metadata": {},
   "outputs": [],
   "source": []
  },
  {
   "cell_type": "code",
   "execution_count": null,
   "id": "7c144234-dbb2-42bc-b776-b5b0853f2156",
   "metadata": {},
   "outputs": [],
   "source": []
  },
  {
   "cell_type": "code",
   "execution_count": null,
   "id": "917786e5-7931-4b03-b81a-93ab55bb1c1b",
   "metadata": {},
   "outputs": [],
   "source": []
  },
  {
   "cell_type": "code",
   "execution_count": null,
   "id": "02bedbc1-f308-46a3-bd71-e628095c4530",
   "metadata": {},
   "outputs": [],
   "source": []
  },
  {
   "cell_type": "code",
   "execution_count": null,
   "id": "77d9667f-e7bf-497c-9c0b-794b08da8021",
   "metadata": {},
   "outputs": [],
   "source": []
  },
  {
   "cell_type": "code",
   "execution_count": null,
   "id": "e6088171-b00a-44f8-b7d0-509bae11a2a1",
   "metadata": {},
   "outputs": [],
   "source": []
  },
  {
   "cell_type": "code",
   "execution_count": null,
   "id": "e69f5384-be42-4ab6-9c42-d841c19a8d81",
   "metadata": {},
   "outputs": [],
   "source": []
  },
  {
   "cell_type": "code",
   "execution_count": null,
   "id": "b9860a1f-e241-4ef3-9acd-b94d3f6474c3",
   "metadata": {},
   "outputs": [],
   "source": []
  },
  {
   "cell_type": "code",
   "execution_count": null,
   "id": "05ef3d98-d5c0-4f39-8e79-7a72355fa365",
   "metadata": {},
   "outputs": [],
   "source": []
  },
  {
   "cell_type": "code",
   "execution_count": null,
   "id": "5c785a2c-4678-4fa2-abd3-94eb633eb913",
   "metadata": {},
   "outputs": [],
   "source": []
  },
  {
   "cell_type": "code",
   "execution_count": null,
   "id": "fae6a28f-ce5b-4530-ab38-daeb6beecbda",
   "metadata": {},
   "outputs": [],
   "source": []
  },
  {
   "cell_type": "code",
   "execution_count": null,
   "id": "bbf22007-4a41-4356-8cdb-7f0b3f58e114",
   "metadata": {},
   "outputs": [],
   "source": []
  },
  {
   "cell_type": "code",
   "execution_count": null,
   "id": "aba1d2d5-092c-4284-a9a8-b4d54fafdf0a",
   "metadata": {},
   "outputs": [],
   "source": []
  }
 ],
 "metadata": {
  "kernelspec": {
   "display_name": "Python 3 (ipykernel)",
   "language": "python",
   "name": "python3"
  },
  "language_info": {
   "codemirror_mode": {
    "name": "ipython",
    "version": 3
   },
   "file_extension": ".py",
   "mimetype": "text/x-python",
   "name": "python",
   "nbconvert_exporter": "python",
   "pygments_lexer": "ipython3",
   "version": "3.10.12"
  }
 },
 "nbformat": 4,
 "nbformat_minor": 5
}
